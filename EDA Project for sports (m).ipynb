{
 "cells": [
  {
   "cell_type": "markdown",
   "id": "522869f5",
   "metadata": {},
   "source": [
    "# PROBLEM STATEMENT"
   ]
  },
  {
   "cell_type": "markdown",
   "id": "79ee10d3",
   "metadata": {},
   "source": [
    "### You have been hired as a data analyst by a sports management company. They are interested in forming a new team for the upcoming IPL Season 2018 and want your expertise to suggest players that will maximize their chances of winning matches. Your task is to analyze the IPL dataset and recommend the top-performing players in various positions to include in the new team.  "
   ]
  },
  {
   "cell_type": "markdown",
   "id": "21f1e8e9",
   "metadata": {},
   "source": [
    "# DATA DESCRIPTION"
   ]
  },
  {
   "cell_type": "markdown",
   "id": "ae2b3da3",
   "metadata": {},
   "source": [
    "### Use the \"Indian Premier League (IPL)\" 2017 dataset.It contains comprehensive data on IPL matches, teams, players, and performance metrics."
   ]
  },
  {
   "cell_type": "markdown",
   "id": "8e8f65d4",
   "metadata": {},
   "source": [
    "## Below is the data dictionary explaining the various columns of the dataset: ID, innings, overs, ballnumber, batter, bowler,non-striker, batsman_run, extras_run, total_run, non_boundary, isWicketDelivery, BattingTeam\n"
   ]
  },
  {
   "cell_type": "markdown",
   "id": "48baaeab",
   "metadata": {},
   "source": [
    "## we need to form a IPL team from the given information\n"
   ]
  },
  {
   "cell_type": "markdown",
   "id": "179794da",
   "metadata": {},
   "source": [
    "## total 11 players needed to form a team in which 4 players are in extra "
   ]
  },
  {
   "cell_type": "markdown",
   "id": "f65f9f3d",
   "metadata": {},
   "source": [
    "# importing required libraries "
   ]
  },
  {
   "cell_type": "code",
   "execution_count": 71,
   "id": "4c15c649",
   "metadata": {},
   "outputs": [],
   "source": [
    "import pandas as pd\n",
    "import matplotlib.pyplot as plt \n",
    "import seaborn as sns "
   ]
  },
  {
   "cell_type": "markdown",
   "id": "81792cb8",
   "metadata": {},
   "source": [
    "# Reading the Dataset"
   ]
  },
  {
   "cell_type": "code",
   "execution_count": 72,
   "id": "83fa3758",
   "metadata": {},
   "outputs": [],
   "source": [
    "df = pd.read_csv(r'C:\\Users\\user\\Documents\\learn and build\\archive\\IPL_Ball_by_Ball_2008_2022.csv')"
   ]
  },
  {
   "cell_type": "code",
   "execution_count": 73,
   "id": "43bc75d6",
   "metadata": {},
   "outputs": [
    {
     "data": {
      "text/html": [
       "<div>\n",
       "<style scoped>\n",
       "    .dataframe tbody tr th:only-of-type {\n",
       "        vertical-align: middle;\n",
       "    }\n",
       "\n",
       "    .dataframe tbody tr th {\n",
       "        vertical-align: top;\n",
       "    }\n",
       "\n",
       "    .dataframe thead th {\n",
       "        text-align: right;\n",
       "    }\n",
       "</style>\n",
       "<table border=\"1\" class=\"dataframe\">\n",
       "  <thead>\n",
       "    <tr style=\"text-align: right;\">\n",
       "      <th></th>\n",
       "      <th>ID</th>\n",
       "      <th>innings</th>\n",
       "      <th>overs</th>\n",
       "      <th>ballnumber</th>\n",
       "      <th>batter</th>\n",
       "      <th>bowler</th>\n",
       "      <th>non-striker</th>\n",
       "      <th>extra_type</th>\n",
       "      <th>batsman_run</th>\n",
       "      <th>extras_run</th>\n",
       "      <th>total_run</th>\n",
       "      <th>non_boundary</th>\n",
       "      <th>isWicketDelivery</th>\n",
       "      <th>player_out</th>\n",
       "      <th>kind</th>\n",
       "      <th>fielders_involved</th>\n",
       "      <th>BattingTeam</th>\n",
       "    </tr>\n",
       "  </thead>\n",
       "  <tbody>\n",
       "    <tr>\n",
       "      <th>0</th>\n",
       "      <td>1312200</td>\n",
       "      <td>1</td>\n",
       "      <td>0</td>\n",
       "      <td>1</td>\n",
       "      <td>YBK Jaiswal</td>\n",
       "      <td>Mohammed Shami</td>\n",
       "      <td>JC Buttler</td>\n",
       "      <td>NaN</td>\n",
       "      <td>0</td>\n",
       "      <td>0</td>\n",
       "      <td>0</td>\n",
       "      <td>0</td>\n",
       "      <td>0</td>\n",
       "      <td>NaN</td>\n",
       "      <td>NaN</td>\n",
       "      <td>NaN</td>\n",
       "      <td>Rajasthan Royals</td>\n",
       "    </tr>\n",
       "    <tr>\n",
       "      <th>1</th>\n",
       "      <td>1312200</td>\n",
       "      <td>1</td>\n",
       "      <td>0</td>\n",
       "      <td>2</td>\n",
       "      <td>YBK Jaiswal</td>\n",
       "      <td>Mohammed Shami</td>\n",
       "      <td>JC Buttler</td>\n",
       "      <td>legbyes</td>\n",
       "      <td>0</td>\n",
       "      <td>1</td>\n",
       "      <td>1</td>\n",
       "      <td>0</td>\n",
       "      <td>0</td>\n",
       "      <td>NaN</td>\n",
       "      <td>NaN</td>\n",
       "      <td>NaN</td>\n",
       "      <td>Rajasthan Royals</td>\n",
       "    </tr>\n",
       "    <tr>\n",
       "      <th>2</th>\n",
       "      <td>1312200</td>\n",
       "      <td>1</td>\n",
       "      <td>0</td>\n",
       "      <td>3</td>\n",
       "      <td>JC Buttler</td>\n",
       "      <td>Mohammed Shami</td>\n",
       "      <td>YBK Jaiswal</td>\n",
       "      <td>NaN</td>\n",
       "      <td>1</td>\n",
       "      <td>0</td>\n",
       "      <td>1</td>\n",
       "      <td>0</td>\n",
       "      <td>0</td>\n",
       "      <td>NaN</td>\n",
       "      <td>NaN</td>\n",
       "      <td>NaN</td>\n",
       "      <td>Rajasthan Royals</td>\n",
       "    </tr>\n",
       "    <tr>\n",
       "      <th>3</th>\n",
       "      <td>1312200</td>\n",
       "      <td>1</td>\n",
       "      <td>0</td>\n",
       "      <td>4</td>\n",
       "      <td>YBK Jaiswal</td>\n",
       "      <td>Mohammed Shami</td>\n",
       "      <td>JC Buttler</td>\n",
       "      <td>NaN</td>\n",
       "      <td>0</td>\n",
       "      <td>0</td>\n",
       "      <td>0</td>\n",
       "      <td>0</td>\n",
       "      <td>0</td>\n",
       "      <td>NaN</td>\n",
       "      <td>NaN</td>\n",
       "      <td>NaN</td>\n",
       "      <td>Rajasthan Royals</td>\n",
       "    </tr>\n",
       "    <tr>\n",
       "      <th>4</th>\n",
       "      <td>1312200</td>\n",
       "      <td>1</td>\n",
       "      <td>0</td>\n",
       "      <td>5</td>\n",
       "      <td>YBK Jaiswal</td>\n",
       "      <td>Mohammed Shami</td>\n",
       "      <td>JC Buttler</td>\n",
       "      <td>NaN</td>\n",
       "      <td>0</td>\n",
       "      <td>0</td>\n",
       "      <td>0</td>\n",
       "      <td>0</td>\n",
       "      <td>0</td>\n",
       "      <td>NaN</td>\n",
       "      <td>NaN</td>\n",
       "      <td>NaN</td>\n",
       "      <td>Rajasthan Royals</td>\n",
       "    </tr>\n",
       "    <tr>\n",
       "      <th>...</th>\n",
       "      <td>...</td>\n",
       "      <td>...</td>\n",
       "      <td>...</td>\n",
       "      <td>...</td>\n",
       "      <td>...</td>\n",
       "      <td>...</td>\n",
       "      <td>...</td>\n",
       "      <td>...</td>\n",
       "      <td>...</td>\n",
       "      <td>...</td>\n",
       "      <td>...</td>\n",
       "      <td>...</td>\n",
       "      <td>...</td>\n",
       "      <td>...</td>\n",
       "      <td>...</td>\n",
       "      <td>...</td>\n",
       "      <td>...</td>\n",
       "    </tr>\n",
       "    <tr>\n",
       "      <th>225949</th>\n",
       "      <td>335982</td>\n",
       "      <td>2</td>\n",
       "      <td>14</td>\n",
       "      <td>5</td>\n",
       "      <td>P Kumar</td>\n",
       "      <td>I Sharma</td>\n",
       "      <td>SB Joshi</td>\n",
       "      <td>legbyes</td>\n",
       "      <td>0</td>\n",
       "      <td>1</td>\n",
       "      <td>1</td>\n",
       "      <td>0</td>\n",
       "      <td>0</td>\n",
       "      <td>NaN</td>\n",
       "      <td>NaN</td>\n",
       "      <td>NaN</td>\n",
       "      <td>Royal Challengers Bangalore</td>\n",
       "    </tr>\n",
       "    <tr>\n",
       "      <th>225950</th>\n",
       "      <td>335982</td>\n",
       "      <td>2</td>\n",
       "      <td>14</td>\n",
       "      <td>6</td>\n",
       "      <td>SB Joshi</td>\n",
       "      <td>I Sharma</td>\n",
       "      <td>P Kumar</td>\n",
       "      <td>NaN</td>\n",
       "      <td>1</td>\n",
       "      <td>0</td>\n",
       "      <td>1</td>\n",
       "      <td>0</td>\n",
       "      <td>0</td>\n",
       "      <td>NaN</td>\n",
       "      <td>NaN</td>\n",
       "      <td>NaN</td>\n",
       "      <td>Royal Challengers Bangalore</td>\n",
       "    </tr>\n",
       "    <tr>\n",
       "      <th>225951</th>\n",
       "      <td>335982</td>\n",
       "      <td>2</td>\n",
       "      <td>14</td>\n",
       "      <td>7</td>\n",
       "      <td>P Kumar</td>\n",
       "      <td>I Sharma</td>\n",
       "      <td>SB Joshi</td>\n",
       "      <td>NaN</td>\n",
       "      <td>0</td>\n",
       "      <td>0</td>\n",
       "      <td>0</td>\n",
       "      <td>0</td>\n",
       "      <td>0</td>\n",
       "      <td>NaN</td>\n",
       "      <td>NaN</td>\n",
       "      <td>NaN</td>\n",
       "      <td>Royal Challengers Bangalore</td>\n",
       "    </tr>\n",
       "    <tr>\n",
       "      <th>225952</th>\n",
       "      <td>335982</td>\n",
       "      <td>2</td>\n",
       "      <td>15</td>\n",
       "      <td>1</td>\n",
       "      <td>SB Joshi</td>\n",
       "      <td>LR Shukla</td>\n",
       "      <td>P Kumar</td>\n",
       "      <td>wides</td>\n",
       "      <td>0</td>\n",
       "      <td>1</td>\n",
       "      <td>1</td>\n",
       "      <td>0</td>\n",
       "      <td>0</td>\n",
       "      <td>NaN</td>\n",
       "      <td>NaN</td>\n",
       "      <td>NaN</td>\n",
       "      <td>Royal Challengers Bangalore</td>\n",
       "    </tr>\n",
       "    <tr>\n",
       "      <th>225953</th>\n",
       "      <td>335982</td>\n",
       "      <td>2</td>\n",
       "      <td>15</td>\n",
       "      <td>2</td>\n",
       "      <td>SB Joshi</td>\n",
       "      <td>LR Shukla</td>\n",
       "      <td>P Kumar</td>\n",
       "      <td>NaN</td>\n",
       "      <td>0</td>\n",
       "      <td>0</td>\n",
       "      <td>0</td>\n",
       "      <td>0</td>\n",
       "      <td>1</td>\n",
       "      <td>SB Joshi</td>\n",
       "      <td>caught</td>\n",
       "      <td>BB McCullum</td>\n",
       "      <td>Royal Challengers Bangalore</td>\n",
       "    </tr>\n",
       "  </tbody>\n",
       "</table>\n",
       "<p>225954 rows × 17 columns</p>\n",
       "</div>"
      ],
      "text/plain": [
       "             ID  innings  overs  ballnumber       batter          bowler  \\\n",
       "0       1312200        1      0           1  YBK Jaiswal  Mohammed Shami   \n",
       "1       1312200        1      0           2  YBK Jaiswal  Mohammed Shami   \n",
       "2       1312200        1      0           3   JC Buttler  Mohammed Shami   \n",
       "3       1312200        1      0           4  YBK Jaiswal  Mohammed Shami   \n",
       "4       1312200        1      0           5  YBK Jaiswal  Mohammed Shami   \n",
       "...         ...      ...    ...         ...          ...             ...   \n",
       "225949   335982        2     14           5      P Kumar        I Sharma   \n",
       "225950   335982        2     14           6     SB Joshi        I Sharma   \n",
       "225951   335982        2     14           7      P Kumar        I Sharma   \n",
       "225952   335982        2     15           1     SB Joshi       LR Shukla   \n",
       "225953   335982        2     15           2     SB Joshi       LR Shukla   \n",
       "\n",
       "        non-striker extra_type  batsman_run  extras_run  total_run  \\\n",
       "0        JC Buttler        NaN            0           0          0   \n",
       "1        JC Buttler    legbyes            0           1          1   \n",
       "2       YBK Jaiswal        NaN            1           0          1   \n",
       "3        JC Buttler        NaN            0           0          0   \n",
       "4        JC Buttler        NaN            0           0          0   \n",
       "...             ...        ...          ...         ...        ...   \n",
       "225949     SB Joshi    legbyes            0           1          1   \n",
       "225950      P Kumar        NaN            1           0          1   \n",
       "225951     SB Joshi        NaN            0           0          0   \n",
       "225952      P Kumar      wides            0           1          1   \n",
       "225953      P Kumar        NaN            0           0          0   \n",
       "\n",
       "        non_boundary  isWicketDelivery player_out    kind fielders_involved  \\\n",
       "0                  0                 0        NaN     NaN               NaN   \n",
       "1                  0                 0        NaN     NaN               NaN   \n",
       "2                  0                 0        NaN     NaN               NaN   \n",
       "3                  0                 0        NaN     NaN               NaN   \n",
       "4                  0                 0        NaN     NaN               NaN   \n",
       "...              ...               ...        ...     ...               ...   \n",
       "225949             0                 0        NaN     NaN               NaN   \n",
       "225950             0                 0        NaN     NaN               NaN   \n",
       "225951             0                 0        NaN     NaN               NaN   \n",
       "225952             0                 0        NaN     NaN               NaN   \n",
       "225953             0                 1   SB Joshi  caught       BB McCullum   \n",
       "\n",
       "                        BattingTeam  \n",
       "0                  Rajasthan Royals  \n",
       "1                  Rajasthan Royals  \n",
       "2                  Rajasthan Royals  \n",
       "3                  Rajasthan Royals  \n",
       "4                  Rajasthan Royals  \n",
       "...                             ...  \n",
       "225949  Royal Challengers Bangalore  \n",
       "225950  Royal Challengers Bangalore  \n",
       "225951  Royal Challengers Bangalore  \n",
       "225952  Royal Challengers Bangalore  \n",
       "225953  Royal Challengers Bangalore  \n",
       "\n",
       "[225954 rows x 17 columns]"
      ]
     },
     "execution_count": 73,
     "metadata": {},
     "output_type": "execute_result"
    }
   ],
   "source": [
    "df"
   ]
  },
  {
   "cell_type": "code",
   "execution_count": 74,
   "id": "9005ee49",
   "metadata": {},
   "outputs": [
    {
     "data": {
      "text/plain": [
       "(225954, 17)"
      ]
     },
     "execution_count": 74,
     "metadata": {},
     "output_type": "execute_result"
    }
   ],
   "source": [
    "df.shape"
   ]
  },
  {
   "cell_type": "markdown",
   "id": "221958a2",
   "metadata": {},
   "source": [
    "# printing top and botom rows to check the data entered is in correct manner"
   ]
  },
  {
   "cell_type": "code",
   "execution_count": 75,
   "id": "7b3298c5",
   "metadata": {},
   "outputs": [
    {
     "data": {
      "text/html": [
       "<div>\n",
       "<style scoped>\n",
       "    .dataframe tbody tr th:only-of-type {\n",
       "        vertical-align: middle;\n",
       "    }\n",
       "\n",
       "    .dataframe tbody tr th {\n",
       "        vertical-align: top;\n",
       "    }\n",
       "\n",
       "    .dataframe thead th {\n",
       "        text-align: right;\n",
       "    }\n",
       "</style>\n",
       "<table border=\"1\" class=\"dataframe\">\n",
       "  <thead>\n",
       "    <tr style=\"text-align: right;\">\n",
       "      <th></th>\n",
       "      <th>ID</th>\n",
       "      <th>innings</th>\n",
       "      <th>overs</th>\n",
       "      <th>ballnumber</th>\n",
       "      <th>batter</th>\n",
       "      <th>bowler</th>\n",
       "      <th>non-striker</th>\n",
       "      <th>extra_type</th>\n",
       "      <th>batsman_run</th>\n",
       "      <th>extras_run</th>\n",
       "      <th>total_run</th>\n",
       "      <th>non_boundary</th>\n",
       "      <th>isWicketDelivery</th>\n",
       "      <th>player_out</th>\n",
       "      <th>kind</th>\n",
       "      <th>fielders_involved</th>\n",
       "      <th>BattingTeam</th>\n",
       "    </tr>\n",
       "  </thead>\n",
       "  <tbody>\n",
       "    <tr>\n",
       "      <th>0</th>\n",
       "      <td>1312200</td>\n",
       "      <td>1</td>\n",
       "      <td>0</td>\n",
       "      <td>1</td>\n",
       "      <td>YBK Jaiswal</td>\n",
       "      <td>Mohammed Shami</td>\n",
       "      <td>JC Buttler</td>\n",
       "      <td>NaN</td>\n",
       "      <td>0</td>\n",
       "      <td>0</td>\n",
       "      <td>0</td>\n",
       "      <td>0</td>\n",
       "      <td>0</td>\n",
       "      <td>NaN</td>\n",
       "      <td>NaN</td>\n",
       "      <td>NaN</td>\n",
       "      <td>Rajasthan Royals</td>\n",
       "    </tr>\n",
       "    <tr>\n",
       "      <th>1</th>\n",
       "      <td>1312200</td>\n",
       "      <td>1</td>\n",
       "      <td>0</td>\n",
       "      <td>2</td>\n",
       "      <td>YBK Jaiswal</td>\n",
       "      <td>Mohammed Shami</td>\n",
       "      <td>JC Buttler</td>\n",
       "      <td>legbyes</td>\n",
       "      <td>0</td>\n",
       "      <td>1</td>\n",
       "      <td>1</td>\n",
       "      <td>0</td>\n",
       "      <td>0</td>\n",
       "      <td>NaN</td>\n",
       "      <td>NaN</td>\n",
       "      <td>NaN</td>\n",
       "      <td>Rajasthan Royals</td>\n",
       "    </tr>\n",
       "    <tr>\n",
       "      <th>2</th>\n",
       "      <td>1312200</td>\n",
       "      <td>1</td>\n",
       "      <td>0</td>\n",
       "      <td>3</td>\n",
       "      <td>JC Buttler</td>\n",
       "      <td>Mohammed Shami</td>\n",
       "      <td>YBK Jaiswal</td>\n",
       "      <td>NaN</td>\n",
       "      <td>1</td>\n",
       "      <td>0</td>\n",
       "      <td>1</td>\n",
       "      <td>0</td>\n",
       "      <td>0</td>\n",
       "      <td>NaN</td>\n",
       "      <td>NaN</td>\n",
       "      <td>NaN</td>\n",
       "      <td>Rajasthan Royals</td>\n",
       "    </tr>\n",
       "    <tr>\n",
       "      <th>3</th>\n",
       "      <td>1312200</td>\n",
       "      <td>1</td>\n",
       "      <td>0</td>\n",
       "      <td>4</td>\n",
       "      <td>YBK Jaiswal</td>\n",
       "      <td>Mohammed Shami</td>\n",
       "      <td>JC Buttler</td>\n",
       "      <td>NaN</td>\n",
       "      <td>0</td>\n",
       "      <td>0</td>\n",
       "      <td>0</td>\n",
       "      <td>0</td>\n",
       "      <td>0</td>\n",
       "      <td>NaN</td>\n",
       "      <td>NaN</td>\n",
       "      <td>NaN</td>\n",
       "      <td>Rajasthan Royals</td>\n",
       "    </tr>\n",
       "    <tr>\n",
       "      <th>4</th>\n",
       "      <td>1312200</td>\n",
       "      <td>1</td>\n",
       "      <td>0</td>\n",
       "      <td>5</td>\n",
       "      <td>YBK Jaiswal</td>\n",
       "      <td>Mohammed Shami</td>\n",
       "      <td>JC Buttler</td>\n",
       "      <td>NaN</td>\n",
       "      <td>0</td>\n",
       "      <td>0</td>\n",
       "      <td>0</td>\n",
       "      <td>0</td>\n",
       "      <td>0</td>\n",
       "      <td>NaN</td>\n",
       "      <td>NaN</td>\n",
       "      <td>NaN</td>\n",
       "      <td>Rajasthan Royals</td>\n",
       "    </tr>\n",
       "  </tbody>\n",
       "</table>\n",
       "</div>"
      ],
      "text/plain": [
       "        ID  innings  overs  ballnumber       batter          bowler  \\\n",
       "0  1312200        1      0           1  YBK Jaiswal  Mohammed Shami   \n",
       "1  1312200        1      0           2  YBK Jaiswal  Mohammed Shami   \n",
       "2  1312200        1      0           3   JC Buttler  Mohammed Shami   \n",
       "3  1312200        1      0           4  YBK Jaiswal  Mohammed Shami   \n",
       "4  1312200        1      0           5  YBK Jaiswal  Mohammed Shami   \n",
       "\n",
       "   non-striker extra_type  batsman_run  extras_run  total_run  non_boundary  \\\n",
       "0   JC Buttler        NaN            0           0          0             0   \n",
       "1   JC Buttler    legbyes            0           1          1             0   \n",
       "2  YBK Jaiswal        NaN            1           0          1             0   \n",
       "3   JC Buttler        NaN            0           0          0             0   \n",
       "4   JC Buttler        NaN            0           0          0             0   \n",
       "\n",
       "   isWicketDelivery player_out kind fielders_involved       BattingTeam  \n",
       "0                 0        NaN  NaN               NaN  Rajasthan Royals  \n",
       "1                 0        NaN  NaN               NaN  Rajasthan Royals  \n",
       "2                 0        NaN  NaN               NaN  Rajasthan Royals  \n",
       "3                 0        NaN  NaN               NaN  Rajasthan Royals  \n",
       "4                 0        NaN  NaN               NaN  Rajasthan Royals  "
      ]
     },
     "execution_count": 75,
     "metadata": {},
     "output_type": "execute_result"
    }
   ],
   "source": [
    "df.head()"
   ]
  },
  {
   "cell_type": "code",
   "execution_count": 76,
   "id": "9551c652",
   "metadata": {},
   "outputs": [
    {
     "data": {
      "text/html": [
       "<div>\n",
       "<style scoped>\n",
       "    .dataframe tbody tr th:only-of-type {\n",
       "        vertical-align: middle;\n",
       "    }\n",
       "\n",
       "    .dataframe tbody tr th {\n",
       "        vertical-align: top;\n",
       "    }\n",
       "\n",
       "    .dataframe thead th {\n",
       "        text-align: right;\n",
       "    }\n",
       "</style>\n",
       "<table border=\"1\" class=\"dataframe\">\n",
       "  <thead>\n",
       "    <tr style=\"text-align: right;\">\n",
       "      <th></th>\n",
       "      <th>ID</th>\n",
       "      <th>innings</th>\n",
       "      <th>overs</th>\n",
       "      <th>ballnumber</th>\n",
       "      <th>batter</th>\n",
       "      <th>bowler</th>\n",
       "      <th>non-striker</th>\n",
       "      <th>extra_type</th>\n",
       "      <th>batsman_run</th>\n",
       "      <th>extras_run</th>\n",
       "      <th>total_run</th>\n",
       "      <th>non_boundary</th>\n",
       "      <th>isWicketDelivery</th>\n",
       "      <th>player_out</th>\n",
       "      <th>kind</th>\n",
       "      <th>fielders_involved</th>\n",
       "      <th>BattingTeam</th>\n",
       "    </tr>\n",
       "  </thead>\n",
       "  <tbody>\n",
       "    <tr>\n",
       "      <th>225949</th>\n",
       "      <td>335982</td>\n",
       "      <td>2</td>\n",
       "      <td>14</td>\n",
       "      <td>5</td>\n",
       "      <td>P Kumar</td>\n",
       "      <td>I Sharma</td>\n",
       "      <td>SB Joshi</td>\n",
       "      <td>legbyes</td>\n",
       "      <td>0</td>\n",
       "      <td>1</td>\n",
       "      <td>1</td>\n",
       "      <td>0</td>\n",
       "      <td>0</td>\n",
       "      <td>NaN</td>\n",
       "      <td>NaN</td>\n",
       "      <td>NaN</td>\n",
       "      <td>Royal Challengers Bangalore</td>\n",
       "    </tr>\n",
       "    <tr>\n",
       "      <th>225950</th>\n",
       "      <td>335982</td>\n",
       "      <td>2</td>\n",
       "      <td>14</td>\n",
       "      <td>6</td>\n",
       "      <td>SB Joshi</td>\n",
       "      <td>I Sharma</td>\n",
       "      <td>P Kumar</td>\n",
       "      <td>NaN</td>\n",
       "      <td>1</td>\n",
       "      <td>0</td>\n",
       "      <td>1</td>\n",
       "      <td>0</td>\n",
       "      <td>0</td>\n",
       "      <td>NaN</td>\n",
       "      <td>NaN</td>\n",
       "      <td>NaN</td>\n",
       "      <td>Royal Challengers Bangalore</td>\n",
       "    </tr>\n",
       "    <tr>\n",
       "      <th>225951</th>\n",
       "      <td>335982</td>\n",
       "      <td>2</td>\n",
       "      <td>14</td>\n",
       "      <td>7</td>\n",
       "      <td>P Kumar</td>\n",
       "      <td>I Sharma</td>\n",
       "      <td>SB Joshi</td>\n",
       "      <td>NaN</td>\n",
       "      <td>0</td>\n",
       "      <td>0</td>\n",
       "      <td>0</td>\n",
       "      <td>0</td>\n",
       "      <td>0</td>\n",
       "      <td>NaN</td>\n",
       "      <td>NaN</td>\n",
       "      <td>NaN</td>\n",
       "      <td>Royal Challengers Bangalore</td>\n",
       "    </tr>\n",
       "    <tr>\n",
       "      <th>225952</th>\n",
       "      <td>335982</td>\n",
       "      <td>2</td>\n",
       "      <td>15</td>\n",
       "      <td>1</td>\n",
       "      <td>SB Joshi</td>\n",
       "      <td>LR Shukla</td>\n",
       "      <td>P Kumar</td>\n",
       "      <td>wides</td>\n",
       "      <td>0</td>\n",
       "      <td>1</td>\n",
       "      <td>1</td>\n",
       "      <td>0</td>\n",
       "      <td>0</td>\n",
       "      <td>NaN</td>\n",
       "      <td>NaN</td>\n",
       "      <td>NaN</td>\n",
       "      <td>Royal Challengers Bangalore</td>\n",
       "    </tr>\n",
       "    <tr>\n",
       "      <th>225953</th>\n",
       "      <td>335982</td>\n",
       "      <td>2</td>\n",
       "      <td>15</td>\n",
       "      <td>2</td>\n",
       "      <td>SB Joshi</td>\n",
       "      <td>LR Shukla</td>\n",
       "      <td>P Kumar</td>\n",
       "      <td>NaN</td>\n",
       "      <td>0</td>\n",
       "      <td>0</td>\n",
       "      <td>0</td>\n",
       "      <td>0</td>\n",
       "      <td>1</td>\n",
       "      <td>SB Joshi</td>\n",
       "      <td>caught</td>\n",
       "      <td>BB McCullum</td>\n",
       "      <td>Royal Challengers Bangalore</td>\n",
       "    </tr>\n",
       "  </tbody>\n",
       "</table>\n",
       "</div>"
      ],
      "text/plain": [
       "            ID  innings  overs  ballnumber    batter     bowler non-striker  \\\n",
       "225949  335982        2     14           5   P Kumar   I Sharma    SB Joshi   \n",
       "225950  335982        2     14           6  SB Joshi   I Sharma     P Kumar   \n",
       "225951  335982        2     14           7   P Kumar   I Sharma    SB Joshi   \n",
       "225952  335982        2     15           1  SB Joshi  LR Shukla     P Kumar   \n",
       "225953  335982        2     15           2  SB Joshi  LR Shukla     P Kumar   \n",
       "\n",
       "       extra_type  batsman_run  extras_run  total_run  non_boundary  \\\n",
       "225949    legbyes            0           1          1             0   \n",
       "225950        NaN            1           0          1             0   \n",
       "225951        NaN            0           0          0             0   \n",
       "225952      wides            0           1          1             0   \n",
       "225953        NaN            0           0          0             0   \n",
       "\n",
       "        isWicketDelivery player_out    kind fielders_involved  \\\n",
       "225949                 0        NaN     NaN               NaN   \n",
       "225950                 0        NaN     NaN               NaN   \n",
       "225951                 0        NaN     NaN               NaN   \n",
       "225952                 0        NaN     NaN               NaN   \n",
       "225953                 1   SB Joshi  caught       BB McCullum   \n",
       "\n",
       "                        BattingTeam  \n",
       "225949  Royal Challengers Bangalore  \n",
       "225950  Royal Challengers Bangalore  \n",
       "225951  Royal Challengers Bangalore  \n",
       "225952  Royal Challengers Bangalore  \n",
       "225953  Royal Challengers Bangalore  "
      ]
     },
     "execution_count": 76,
     "metadata": {},
     "output_type": "execute_result"
    }
   ],
   "source": [
    "df.tail()"
   ]
  },
  {
   "cell_type": "code",
   "execution_count": 77,
   "id": "313644cf",
   "metadata": {},
   "outputs": [
    {
     "data": {
      "text/html": [
       "<div>\n",
       "<style scoped>\n",
       "    .dataframe tbody tr th:only-of-type {\n",
       "        vertical-align: middle;\n",
       "    }\n",
       "\n",
       "    .dataframe tbody tr th {\n",
       "        vertical-align: top;\n",
       "    }\n",
       "\n",
       "    .dataframe thead th {\n",
       "        text-align: right;\n",
       "    }\n",
       "</style>\n",
       "<table border=\"1\" class=\"dataframe\">\n",
       "  <thead>\n",
       "    <tr style=\"text-align: right;\">\n",
       "      <th></th>\n",
       "      <th>ID</th>\n",
       "      <th>innings</th>\n",
       "      <th>overs</th>\n",
       "      <th>ballnumber</th>\n",
       "      <th>batsman_run</th>\n",
       "      <th>extras_run</th>\n",
       "      <th>total_run</th>\n",
       "      <th>non_boundary</th>\n",
       "      <th>isWicketDelivery</th>\n",
       "    </tr>\n",
       "  </thead>\n",
       "  <tbody>\n",
       "    <tr>\n",
       "      <th>count</th>\n",
       "      <td>2.259540e+05</td>\n",
       "      <td>225954.000000</td>\n",
       "      <td>225954.000000</td>\n",
       "      <td>225954.000000</td>\n",
       "      <td>225954.000000</td>\n",
       "      <td>225954.000000</td>\n",
       "      <td>225954.00000</td>\n",
       "      <td>225954.000000</td>\n",
       "      <td>225954.000000</td>\n",
       "    </tr>\n",
       "    <tr>\n",
       "      <th>mean</th>\n",
       "      <td>8.320470e+05</td>\n",
       "      <td>1.483868</td>\n",
       "      <td>9.185679</td>\n",
       "      <td>3.619750</td>\n",
       "      <td>1.243523</td>\n",
       "      <td>0.066907</td>\n",
       "      <td>1.31043</td>\n",
       "      <td>0.000093</td>\n",
       "      <td>0.049351</td>\n",
       "    </tr>\n",
       "    <tr>\n",
       "      <th>std</th>\n",
       "      <td>3.379542e+05</td>\n",
       "      <td>0.503104</td>\n",
       "      <td>5.681797</td>\n",
       "      <td>1.810633</td>\n",
       "      <td>1.618166</td>\n",
       "      <td>0.341470</td>\n",
       "      <td>1.60605</td>\n",
       "      <td>0.009640</td>\n",
       "      <td>0.216600</td>\n",
       "    </tr>\n",
       "    <tr>\n",
       "      <th>min</th>\n",
       "      <td>3.359820e+05</td>\n",
       "      <td>1.000000</td>\n",
       "      <td>0.000000</td>\n",
       "      <td>1.000000</td>\n",
       "      <td>0.000000</td>\n",
       "      <td>0.000000</td>\n",
       "      <td>0.00000</td>\n",
       "      <td>0.000000</td>\n",
       "      <td>0.000000</td>\n",
       "    </tr>\n",
       "    <tr>\n",
       "      <th>25%</th>\n",
       "      <td>5.012620e+05</td>\n",
       "      <td>1.000000</td>\n",
       "      <td>4.000000</td>\n",
       "      <td>2.000000</td>\n",
       "      <td>0.000000</td>\n",
       "      <td>0.000000</td>\n",
       "      <td>0.00000</td>\n",
       "      <td>0.000000</td>\n",
       "      <td>0.000000</td>\n",
       "    </tr>\n",
       "    <tr>\n",
       "      <th>50%</th>\n",
       "      <td>8.297370e+05</td>\n",
       "      <td>1.000000</td>\n",
       "      <td>9.000000</td>\n",
       "      <td>4.000000</td>\n",
       "      <td>1.000000</td>\n",
       "      <td>0.000000</td>\n",
       "      <td>1.00000</td>\n",
       "      <td>0.000000</td>\n",
       "      <td>0.000000</td>\n",
       "    </tr>\n",
       "    <tr>\n",
       "      <th>75%</th>\n",
       "      <td>1.178395e+06</td>\n",
       "      <td>2.000000</td>\n",
       "      <td>14.000000</td>\n",
       "      <td>5.000000</td>\n",
       "      <td>1.000000</td>\n",
       "      <td>0.000000</td>\n",
       "      <td>1.00000</td>\n",
       "      <td>0.000000</td>\n",
       "      <td>0.000000</td>\n",
       "    </tr>\n",
       "    <tr>\n",
       "      <th>max</th>\n",
       "      <td>1.312200e+06</td>\n",
       "      <td>6.000000</td>\n",
       "      <td>19.000000</td>\n",
       "      <td>10.000000</td>\n",
       "      <td>6.000000</td>\n",
       "      <td>7.000000</td>\n",
       "      <td>7.00000</td>\n",
       "      <td>1.000000</td>\n",
       "      <td>1.000000</td>\n",
       "    </tr>\n",
       "  </tbody>\n",
       "</table>\n",
       "</div>"
      ],
      "text/plain": [
       "                 ID        innings          overs     ballnumber  \\\n",
       "count  2.259540e+05  225954.000000  225954.000000  225954.000000   \n",
       "mean   8.320470e+05       1.483868       9.185679       3.619750   \n",
       "std    3.379542e+05       0.503104       5.681797       1.810633   \n",
       "min    3.359820e+05       1.000000       0.000000       1.000000   \n",
       "25%    5.012620e+05       1.000000       4.000000       2.000000   \n",
       "50%    8.297370e+05       1.000000       9.000000       4.000000   \n",
       "75%    1.178395e+06       2.000000      14.000000       5.000000   \n",
       "max    1.312200e+06       6.000000      19.000000      10.000000   \n",
       "\n",
       "         batsman_run     extras_run     total_run   non_boundary  \\\n",
       "count  225954.000000  225954.000000  225954.00000  225954.000000   \n",
       "mean        1.243523       0.066907       1.31043       0.000093   \n",
       "std         1.618166       0.341470       1.60605       0.009640   \n",
       "min         0.000000       0.000000       0.00000       0.000000   \n",
       "25%         0.000000       0.000000       0.00000       0.000000   \n",
       "50%         1.000000       0.000000       1.00000       0.000000   \n",
       "75%         1.000000       0.000000       1.00000       0.000000   \n",
       "max         6.000000       7.000000       7.00000       1.000000   \n",
       "\n",
       "       isWicketDelivery  \n",
       "count     225954.000000  \n",
       "mean           0.049351  \n",
       "std            0.216600  \n",
       "min            0.000000  \n",
       "25%            0.000000  \n",
       "50%            0.000000  \n",
       "75%            0.000000  \n",
       "max            1.000000  "
      ]
     },
     "execution_count": 77,
     "metadata": {},
     "output_type": "execute_result"
    }
   ],
   "source": [
    "df.describe()"
   ]
  },
  {
   "cell_type": "code",
   "execution_count": 78,
   "id": "50f2c2ec",
   "metadata": {},
   "outputs": [
    {
     "name": "stdout",
     "output_type": "stream",
     "text": [
      "<class 'pandas.core.frame.DataFrame'>\n",
      "RangeIndex: 225954 entries, 0 to 225953\n",
      "Data columns (total 17 columns):\n",
      " #   Column             Non-Null Count   Dtype \n",
      "---  ------             --------------   ----- \n",
      " 0   ID                 225954 non-null  int64 \n",
      " 1   innings            225954 non-null  int64 \n",
      " 2   overs              225954 non-null  int64 \n",
      " 3   ballnumber         225954 non-null  int64 \n",
      " 4   batter             225954 non-null  object\n",
      " 5   bowler             225954 non-null  object\n",
      " 6   non-striker        225954 non-null  object\n",
      " 7   extra_type         12049 non-null   object\n",
      " 8   batsman_run        225954 non-null  int64 \n",
      " 9   extras_run         225954 non-null  int64 \n",
      " 10  total_run          225954 non-null  int64 \n",
      " 11  non_boundary       225954 non-null  int64 \n",
      " 12  isWicketDelivery   225954 non-null  int64 \n",
      " 13  player_out         11151 non-null   object\n",
      " 14  kind               11151 non-null   object\n",
      " 15  fielders_involved  7988 non-null    object\n",
      " 16  BattingTeam        225954 non-null  object\n",
      "dtypes: int64(9), object(8)\n",
      "memory usage: 29.3+ MB\n"
     ]
    }
   ],
   "source": [
    "df.info()"
   ]
  },
  {
   "cell_type": "code",
   "execution_count": 79,
   "id": "c0a9bd77",
   "metadata": {},
   "outputs": [
    {
     "data": {
      "text/plain": [
       "ID                   950\n",
       "innings                6\n",
       "overs                 20\n",
       "ballnumber            10\n",
       "batter               605\n",
       "bowler               472\n",
       "non-striker          595\n",
       "extra_type             5\n",
       "batsman_run            7\n",
       "extras_run             7\n",
       "total_run              8\n",
       "non_boundary           2\n",
       "isWicketDelivery       2\n",
       "player_out           573\n",
       "kind                  10\n",
       "fielders_involved    535\n",
       "BattingTeam           18\n",
       "dtype: int64"
      ]
     },
     "execution_count": 79,
     "metadata": {},
     "output_type": "execute_result"
    }
   ],
   "source": [
    "df.nunique()"
   ]
  },
  {
   "cell_type": "markdown",
   "id": "2755a331",
   "metadata": {},
   "source": [
    "# at first we will do cleaning our data\n",
    "### it includes treating null values"
   ]
  },
  {
   "cell_type": "code",
   "execution_count": 80,
   "id": "4174a9cf",
   "metadata": {},
   "outputs": [
    {
     "data": {
      "text/plain": [
       "ID                        0\n",
       "innings                   0\n",
       "overs                     0\n",
       "ballnumber                0\n",
       "batter                    0\n",
       "bowler                    0\n",
       "non-striker               0\n",
       "extra_type           213905\n",
       "batsman_run               0\n",
       "extras_run                0\n",
       "total_run                 0\n",
       "non_boundary              0\n",
       "isWicketDelivery          0\n",
       "player_out           214803\n",
       "kind                 214803\n",
       "fielders_involved    217966\n",
       "BattingTeam               0\n",
       "dtype: int64"
      ]
     },
     "execution_count": 80,
     "metadata": {},
     "output_type": "execute_result"
    }
   ],
   "source": [
    "df.isnull().sum()"
   ]
  },
  {
   "cell_type": "markdown",
   "id": "9b13936c",
   "metadata": {},
   "source": [
    "### percentage of not available data"
   ]
  },
  {
   "cell_type": "code",
   "execution_count": 81,
   "id": "7b5d61df",
   "metadata": {},
   "outputs": [
    {
     "data": {
      "text/plain": [
       "95.06492471919063"
      ]
     },
     "execution_count": 81,
     "metadata": {},
     "output_type": "execute_result"
    }
   ],
   "source": [
    "df['player_out'].isnull().mean()*100"
   ]
  },
  {
   "cell_type": "code",
   "execution_count": 82,
   "id": "fe1a6d0e",
   "metadata": {},
   "outputs": [
    {
     "data": {
      "text/plain": [
       "95.06492471919063"
      ]
     },
     "execution_count": 82,
     "metadata": {},
     "output_type": "execute_result"
    }
   ],
   "source": [
    "df['kind'].isnull().mean()*100"
   ]
  },
  {
   "cell_type": "code",
   "execution_count": 83,
   "id": "7b5cea93",
   "metadata": {},
   "outputs": [
    {
     "data": {
      "text/plain": [
       "96.4647671649982"
      ]
     },
     "execution_count": 83,
     "metadata": {},
     "output_type": "execute_result"
    }
   ],
   "source": [
    "df['fielders_involved'].isnull().mean()*100"
   ]
  },
  {
   "cell_type": "code",
   "execution_count": 84,
   "id": "faeecc9d",
   "metadata": {},
   "outputs": [
    {
     "data": {
      "text/plain": [
       "94.66749869442452"
      ]
     },
     "execution_count": 84,
     "metadata": {},
     "output_type": "execute_result"
    }
   ],
   "source": [
    "df['extra_type'].isnull().mean()*100"
   ]
  },
  {
   "cell_type": "markdown",
   "id": "a6a71804",
   "metadata": {},
   "source": [
    "### the percentage of missing data is very high so we drop all these columns"
   ]
  },
  {
   "cell_type": "code",
   "execution_count": 85,
   "id": "88bf52b1",
   "metadata": {},
   "outputs": [],
   "source": [
    "df.drop(['player_out'], axis = 1, inplace = True)\n"
   ]
  },
  {
   "cell_type": "code",
   "execution_count": 86,
   "id": "e0d5f3d5",
   "metadata": {},
   "outputs": [],
   "source": [
    "df.drop(['kind'], axis = 1, inplace = True)"
   ]
  },
  {
   "cell_type": "code",
   "execution_count": 87,
   "id": "c2ed9f7e",
   "metadata": {},
   "outputs": [],
   "source": [
    "df.drop(['fielders_involved'], axis = 1, inplace = True)"
   ]
  },
  {
   "cell_type": "code",
   "execution_count": 88,
   "id": "cf0084e6",
   "metadata": {},
   "outputs": [],
   "source": [
    "df.drop(['extra_type'], axis = 1, inplace = True)"
   ]
  },
  {
   "cell_type": "code",
   "execution_count": 89,
   "id": "fad9f546",
   "metadata": {},
   "outputs": [
    {
     "data": {
      "text/html": [
       "<div>\n",
       "<style scoped>\n",
       "    .dataframe tbody tr th:only-of-type {\n",
       "        vertical-align: middle;\n",
       "    }\n",
       "\n",
       "    .dataframe tbody tr th {\n",
       "        vertical-align: top;\n",
       "    }\n",
       "\n",
       "    .dataframe thead th {\n",
       "        text-align: right;\n",
       "    }\n",
       "</style>\n",
       "<table border=\"1\" class=\"dataframe\">\n",
       "  <thead>\n",
       "    <tr style=\"text-align: right;\">\n",
       "      <th></th>\n",
       "      <th>ID</th>\n",
       "      <th>innings</th>\n",
       "      <th>overs</th>\n",
       "      <th>ballnumber</th>\n",
       "      <th>batter</th>\n",
       "      <th>bowler</th>\n",
       "      <th>non-striker</th>\n",
       "      <th>batsman_run</th>\n",
       "      <th>extras_run</th>\n",
       "      <th>total_run</th>\n",
       "      <th>non_boundary</th>\n",
       "      <th>isWicketDelivery</th>\n",
       "      <th>BattingTeam</th>\n",
       "    </tr>\n",
       "  </thead>\n",
       "  <tbody>\n",
       "    <tr>\n",
       "      <th>0</th>\n",
       "      <td>1312200</td>\n",
       "      <td>1</td>\n",
       "      <td>0</td>\n",
       "      <td>1</td>\n",
       "      <td>YBK Jaiswal</td>\n",
       "      <td>Mohammed Shami</td>\n",
       "      <td>JC Buttler</td>\n",
       "      <td>0</td>\n",
       "      <td>0</td>\n",
       "      <td>0</td>\n",
       "      <td>0</td>\n",
       "      <td>0</td>\n",
       "      <td>Rajasthan Royals</td>\n",
       "    </tr>\n",
       "    <tr>\n",
       "      <th>1</th>\n",
       "      <td>1312200</td>\n",
       "      <td>1</td>\n",
       "      <td>0</td>\n",
       "      <td>2</td>\n",
       "      <td>YBK Jaiswal</td>\n",
       "      <td>Mohammed Shami</td>\n",
       "      <td>JC Buttler</td>\n",
       "      <td>0</td>\n",
       "      <td>1</td>\n",
       "      <td>1</td>\n",
       "      <td>0</td>\n",
       "      <td>0</td>\n",
       "      <td>Rajasthan Royals</td>\n",
       "    </tr>\n",
       "    <tr>\n",
       "      <th>2</th>\n",
       "      <td>1312200</td>\n",
       "      <td>1</td>\n",
       "      <td>0</td>\n",
       "      <td>3</td>\n",
       "      <td>JC Buttler</td>\n",
       "      <td>Mohammed Shami</td>\n",
       "      <td>YBK Jaiswal</td>\n",
       "      <td>1</td>\n",
       "      <td>0</td>\n",
       "      <td>1</td>\n",
       "      <td>0</td>\n",
       "      <td>0</td>\n",
       "      <td>Rajasthan Royals</td>\n",
       "    </tr>\n",
       "    <tr>\n",
       "      <th>3</th>\n",
       "      <td>1312200</td>\n",
       "      <td>1</td>\n",
       "      <td>0</td>\n",
       "      <td>4</td>\n",
       "      <td>YBK Jaiswal</td>\n",
       "      <td>Mohammed Shami</td>\n",
       "      <td>JC Buttler</td>\n",
       "      <td>0</td>\n",
       "      <td>0</td>\n",
       "      <td>0</td>\n",
       "      <td>0</td>\n",
       "      <td>0</td>\n",
       "      <td>Rajasthan Royals</td>\n",
       "    </tr>\n",
       "    <tr>\n",
       "      <th>4</th>\n",
       "      <td>1312200</td>\n",
       "      <td>1</td>\n",
       "      <td>0</td>\n",
       "      <td>5</td>\n",
       "      <td>YBK Jaiswal</td>\n",
       "      <td>Mohammed Shami</td>\n",
       "      <td>JC Buttler</td>\n",
       "      <td>0</td>\n",
       "      <td>0</td>\n",
       "      <td>0</td>\n",
       "      <td>0</td>\n",
       "      <td>0</td>\n",
       "      <td>Rajasthan Royals</td>\n",
       "    </tr>\n",
       "    <tr>\n",
       "      <th>...</th>\n",
       "      <td>...</td>\n",
       "      <td>...</td>\n",
       "      <td>...</td>\n",
       "      <td>...</td>\n",
       "      <td>...</td>\n",
       "      <td>...</td>\n",
       "      <td>...</td>\n",
       "      <td>...</td>\n",
       "      <td>...</td>\n",
       "      <td>...</td>\n",
       "      <td>...</td>\n",
       "      <td>...</td>\n",
       "      <td>...</td>\n",
       "    </tr>\n",
       "    <tr>\n",
       "      <th>225949</th>\n",
       "      <td>335982</td>\n",
       "      <td>2</td>\n",
       "      <td>14</td>\n",
       "      <td>5</td>\n",
       "      <td>P Kumar</td>\n",
       "      <td>I Sharma</td>\n",
       "      <td>SB Joshi</td>\n",
       "      <td>0</td>\n",
       "      <td>1</td>\n",
       "      <td>1</td>\n",
       "      <td>0</td>\n",
       "      <td>0</td>\n",
       "      <td>Royal Challengers Bangalore</td>\n",
       "    </tr>\n",
       "    <tr>\n",
       "      <th>225950</th>\n",
       "      <td>335982</td>\n",
       "      <td>2</td>\n",
       "      <td>14</td>\n",
       "      <td>6</td>\n",
       "      <td>SB Joshi</td>\n",
       "      <td>I Sharma</td>\n",
       "      <td>P Kumar</td>\n",
       "      <td>1</td>\n",
       "      <td>0</td>\n",
       "      <td>1</td>\n",
       "      <td>0</td>\n",
       "      <td>0</td>\n",
       "      <td>Royal Challengers Bangalore</td>\n",
       "    </tr>\n",
       "    <tr>\n",
       "      <th>225951</th>\n",
       "      <td>335982</td>\n",
       "      <td>2</td>\n",
       "      <td>14</td>\n",
       "      <td>7</td>\n",
       "      <td>P Kumar</td>\n",
       "      <td>I Sharma</td>\n",
       "      <td>SB Joshi</td>\n",
       "      <td>0</td>\n",
       "      <td>0</td>\n",
       "      <td>0</td>\n",
       "      <td>0</td>\n",
       "      <td>0</td>\n",
       "      <td>Royal Challengers Bangalore</td>\n",
       "    </tr>\n",
       "    <tr>\n",
       "      <th>225952</th>\n",
       "      <td>335982</td>\n",
       "      <td>2</td>\n",
       "      <td>15</td>\n",
       "      <td>1</td>\n",
       "      <td>SB Joshi</td>\n",
       "      <td>LR Shukla</td>\n",
       "      <td>P Kumar</td>\n",
       "      <td>0</td>\n",
       "      <td>1</td>\n",
       "      <td>1</td>\n",
       "      <td>0</td>\n",
       "      <td>0</td>\n",
       "      <td>Royal Challengers Bangalore</td>\n",
       "    </tr>\n",
       "    <tr>\n",
       "      <th>225953</th>\n",
       "      <td>335982</td>\n",
       "      <td>2</td>\n",
       "      <td>15</td>\n",
       "      <td>2</td>\n",
       "      <td>SB Joshi</td>\n",
       "      <td>LR Shukla</td>\n",
       "      <td>P Kumar</td>\n",
       "      <td>0</td>\n",
       "      <td>0</td>\n",
       "      <td>0</td>\n",
       "      <td>0</td>\n",
       "      <td>1</td>\n",
       "      <td>Royal Challengers Bangalore</td>\n",
       "    </tr>\n",
       "  </tbody>\n",
       "</table>\n",
       "<p>225954 rows × 13 columns</p>\n",
       "</div>"
      ],
      "text/plain": [
       "             ID  innings  overs  ballnumber       batter          bowler  \\\n",
       "0       1312200        1      0           1  YBK Jaiswal  Mohammed Shami   \n",
       "1       1312200        1      0           2  YBK Jaiswal  Mohammed Shami   \n",
       "2       1312200        1      0           3   JC Buttler  Mohammed Shami   \n",
       "3       1312200        1      0           4  YBK Jaiswal  Mohammed Shami   \n",
       "4       1312200        1      0           5  YBK Jaiswal  Mohammed Shami   \n",
       "...         ...      ...    ...         ...          ...             ...   \n",
       "225949   335982        2     14           5      P Kumar        I Sharma   \n",
       "225950   335982        2     14           6     SB Joshi        I Sharma   \n",
       "225951   335982        2     14           7      P Kumar        I Sharma   \n",
       "225952   335982        2     15           1     SB Joshi       LR Shukla   \n",
       "225953   335982        2     15           2     SB Joshi       LR Shukla   \n",
       "\n",
       "        non-striker  batsman_run  extras_run  total_run  non_boundary  \\\n",
       "0        JC Buttler            0           0          0             0   \n",
       "1        JC Buttler            0           1          1             0   \n",
       "2       YBK Jaiswal            1           0          1             0   \n",
       "3        JC Buttler            0           0          0             0   \n",
       "4        JC Buttler            0           0          0             0   \n",
       "...             ...          ...         ...        ...           ...   \n",
       "225949     SB Joshi            0           1          1             0   \n",
       "225950      P Kumar            1           0          1             0   \n",
       "225951     SB Joshi            0           0          0             0   \n",
       "225952      P Kumar            0           1          1             0   \n",
       "225953      P Kumar            0           0          0             0   \n",
       "\n",
       "        isWicketDelivery                  BattingTeam  \n",
       "0                      0             Rajasthan Royals  \n",
       "1                      0             Rajasthan Royals  \n",
       "2                      0             Rajasthan Royals  \n",
       "3                      0             Rajasthan Royals  \n",
       "4                      0             Rajasthan Royals  \n",
       "...                  ...                          ...  \n",
       "225949                 0  Royal Challengers Bangalore  \n",
       "225950                 0  Royal Challengers Bangalore  \n",
       "225951                 0  Royal Challengers Bangalore  \n",
       "225952                 0  Royal Challengers Bangalore  \n",
       "225953                 1  Royal Challengers Bangalore  \n",
       "\n",
       "[225954 rows x 13 columns]"
      ]
     },
     "execution_count": 89,
     "metadata": {},
     "output_type": "execute_result"
    }
   ],
   "source": [
    "df"
   ]
  },
  {
   "cell_type": "code",
   "execution_count": 90,
   "id": "5cc81bee",
   "metadata": {},
   "outputs": [
    {
     "data": {
      "text/plain": [
       "Index(['ID', 'innings', 'overs', 'ballnumber', 'batter', 'bowler',\n",
       "       'non-striker', 'batsman_run', 'extras_run', 'total_run', 'non_boundary',\n",
       "       'isWicketDelivery', 'BattingTeam'],\n",
       "      dtype='object')"
      ]
     },
     "execution_count": 90,
     "metadata": {},
     "output_type": "execute_result"
    }
   ],
   "source": [
    "df.columns"
   ]
  },
  {
   "cell_type": "markdown",
   "id": "7ec8558b",
   "metadata": {},
   "source": [
    "### we have successfully removed columns that contain large amount of NaN values"
   ]
  },
  {
   "cell_type": "markdown",
   "id": "36adf895",
   "metadata": {},
   "source": [
    "## shape of dataset"
   ]
  },
  {
   "cell_type": "code",
   "execution_count": 91,
   "id": "12c289f2",
   "metadata": {},
   "outputs": [
    {
     "data": {
      "text/plain": [
       "(225954, 13)"
      ]
     },
     "execution_count": 91,
     "metadata": {},
     "output_type": "execute_result"
    }
   ],
   "source": [
    "df.shape"
   ]
  },
  {
   "cell_type": "code",
   "execution_count": 92,
   "id": "7673cf80",
   "metadata": {},
   "outputs": [
    {
     "data": {
      "text/plain": [
       "ID                   int64\n",
       "innings              int64\n",
       "overs                int64\n",
       "ballnumber           int64\n",
       "batter              object\n",
       "bowler              object\n",
       "non-striker         object\n",
       "batsman_run          int64\n",
       "extras_run           int64\n",
       "total_run            int64\n",
       "non_boundary         int64\n",
       "isWicketDelivery     int64\n",
       "BattingTeam         object\n",
       "dtype: object"
      ]
     },
     "execution_count": 92,
     "metadata": {},
     "output_type": "execute_result"
    }
   ],
   "source": [
    "df.dtypes"
   ]
  },
  {
   "cell_type": "markdown",
   "id": "04320652",
   "metadata": {},
   "source": [
    "## we have cleaned our data.Now we do Exploratory Data Analysis and We will explore the dataset "
   ]
  },
  {
   "cell_type": "markdown",
   "id": "a0497ccd",
   "metadata": {},
   "source": [
    "## players according to their mean of runs scored "
   ]
  },
  {
   "cell_type": "markdown",
   "id": "718c5952",
   "metadata": {},
   "source": [
    "# Players according to the number of ball played and mean of their runs scored"
   ]
  },
  {
   "cell_type": "code",
   "execution_count": 93,
   "id": "217ac3ad",
   "metadata": {},
   "outputs": [
    {
     "data": {
      "text/html": [
       "<div>\n",
       "<style scoped>\n",
       "    .dataframe tbody tr th:only-of-type {\n",
       "        vertical-align: middle;\n",
       "    }\n",
       "\n",
       "    .dataframe tbody tr th {\n",
       "        vertical-align: top;\n",
       "    }\n",
       "\n",
       "    .dataframe thead th {\n",
       "        text-align: right;\n",
       "    }\n",
       "</style>\n",
       "<table border=\"1\" class=\"dataframe\">\n",
       "  <thead>\n",
       "    <tr style=\"text-align: right;\">\n",
       "      <th></th>\n",
       "      <th>ballnumber</th>\n",
       "      <th>batsman_run_mean</th>\n",
       "    </tr>\n",
       "    <tr>\n",
       "      <th>batter</th>\n",
       "      <th></th>\n",
       "      <th></th>\n",
       "    </tr>\n",
       "  </thead>\n",
       "  <tbody>\n",
       "    <tr>\n",
       "      <th>PN Mankad</th>\n",
       "      <td>1</td>\n",
       "      <td>4.000000</td>\n",
       "    </tr>\n",
       "    <tr>\n",
       "      <th>B Stanlake</th>\n",
       "      <td>2</td>\n",
       "      <td>2.500000</td>\n",
       "    </tr>\n",
       "    <tr>\n",
       "      <th>Umar Gul</th>\n",
       "      <td>19</td>\n",
       "      <td>2.052632</td>\n",
       "    </tr>\n",
       "    <tr>\n",
       "      <th>RS Sodhi</th>\n",
       "      <td>2</td>\n",
       "      <td>2.000000</td>\n",
       "    </tr>\n",
       "    <tr>\n",
       "      <th>TH David</th>\n",
       "      <td>94</td>\n",
       "      <td>1.989362</td>\n",
       "    </tr>\n",
       "  </tbody>\n",
       "</table>\n",
       "</div>"
      ],
      "text/plain": [
       "            ballnumber  batsman_run_mean\n",
       "batter                                  \n",
       "PN Mankad            1          4.000000\n",
       "B Stanlake           2          2.500000\n",
       "Umar Gul            19          2.052632\n",
       "RS Sodhi             2          2.000000\n",
       "TH David            94          1.989362"
      ]
     },
     "execution_count": 93,
     "metadata": {},
     "output_type": "execute_result"
    }
   ],
   "source": [
    "batters_count1 = df.groupby('batter').agg({'ballnumber': 'count', 'batsman_run': 'mean'}).sort_values(by='batsman_run',ascending=False).head(5)\n",
    "batters_count1.rename(columns={\"batsman_run\":\"batsman_run_mean\"})"
   ]
  },
  {
   "cell_type": "markdown",
   "id": "af0aa33f",
   "metadata": {},
   "source": [
    "### We don't prefer PN Mankad in our team as he only plays one ball "
   ]
  },
  {
   "cell_type": "code",
   "execution_count": 98,
   "id": "4a31fe5f",
   "metadata": {},
   "outputs": [
    {
     "data": {
      "text/plain": [
       "Text(0, 0.5, 'mean')"
      ]
     },
     "execution_count": 98,
     "metadata": {},
     "output_type": "execute_result"
    },
    {
     "data": {
      "image/png": "[encoded data removed]",
      "text/plain": [
       "<Figure size 500x500 with 1 Axes>"
      ]
     },
     "metadata": {},
     "output_type": "display_data"
    }
   ],
   "source": [
    "plt.figure(figsize=(5,5))\n",
    "ax = batters_count1['batsman_run'].sort_values(ascending=False).head(10).plot.bar(color=['blue', 'orange','green','red','yellow'])\n",
    "\n",
    "ax.set_ylabel('mean')"
   ]
  },
  {
   "cell_type": "code",
   "execution_count": 99,
   "id": "1561cdb0",
   "metadata": {},
   "outputs": [
    {
     "data": {
      "text/html": [
       "<div>\n",
       "<style scoped>\n",
       "    .dataframe tbody tr th:only-of-type {\n",
       "        vertical-align: middle;\n",
       "    }\n",
       "\n",
       "    .dataframe tbody tr th {\n",
       "        vertical-align: top;\n",
       "    }\n",
       "\n",
       "    .dataframe thead th {\n",
       "        text-align: right;\n",
       "    }\n",
       "</style>\n",
       "<table border=\"1\" class=\"dataframe\">\n",
       "  <thead>\n",
       "    <tr style=\"text-align: right;\">\n",
       "      <th></th>\n",
       "      <th>ballnumber</th>\n",
       "      <th>batsman_run_mean</th>\n",
       "    </tr>\n",
       "    <tr>\n",
       "      <th>batter</th>\n",
       "      <th></th>\n",
       "      <th></th>\n",
       "    </tr>\n",
       "  </thead>\n",
       "  <tbody>\n",
       "    <tr>\n",
       "      <th>V Kohli</th>\n",
       "      <td>5266</td>\n",
       "      <td>1.259780</td>\n",
       "    </tr>\n",
       "    <tr>\n",
       "      <th>S Dhawan</th>\n",
       "      <td>5083</td>\n",
       "      <td>1.228408</td>\n",
       "    </tr>\n",
       "    <tr>\n",
       "      <th>RG Sharma</th>\n",
       "      <td>4632</td>\n",
       "      <td>1.269646</td>\n",
       "    </tr>\n",
       "    <tr>\n",
       "      <th>DA Warner</th>\n",
       "      <td>4313</td>\n",
       "      <td>1.364016</td>\n",
       "    </tr>\n",
       "    <tr>\n",
       "      <th>SK Raina</th>\n",
       "      <td>4177</td>\n",
       "      <td>1.325353</td>\n",
       "    </tr>\n",
       "    <tr>\n",
       "      <th>RV Uthappa</th>\n",
       "      <td>3927</td>\n",
       "      <td>1.261523</td>\n",
       "    </tr>\n",
       "    <tr>\n",
       "      <th>MS Dhoni</th>\n",
       "      <td>3802</td>\n",
       "      <td>1.309311</td>\n",
       "    </tr>\n",
       "    <tr>\n",
       "      <th>G Gambhir</th>\n",
       "      <td>3524</td>\n",
       "      <td>1.196652</td>\n",
       "    </tr>\n",
       "    <tr>\n",
       "      <th>CH Gayle</th>\n",
       "      <td>3516</td>\n",
       "      <td>1.421217</td>\n",
       "    </tr>\n",
       "    <tr>\n",
       "      <th>AB de Villiers</th>\n",
       "      <td>3487</td>\n",
       "      <td>1.485804</td>\n",
       "    </tr>\n",
       "  </tbody>\n",
       "</table>\n",
       "</div>"
      ],
      "text/plain": [
       "                ballnumber  batsman_run_mean\n",
       "batter                                      \n",
       "V Kohli               5266          1.259780\n",
       "S Dhawan              5083          1.228408\n",
       "RG Sharma             4632          1.269646\n",
       "DA Warner             4313          1.364016\n",
       "SK Raina              4177          1.325353\n",
       "RV Uthappa            3927          1.261523\n",
       "MS Dhoni              3802          1.309311\n",
       "G Gambhir             3524          1.196652\n",
       "CH Gayle              3516          1.421217\n",
       "AB de Villiers        3487          1.485804"
      ]
     },
     "execution_count": 99,
     "metadata": {},
     "output_type": "execute_result"
    }
   ],
   "source": [
    "batters_count2 = df.groupby('batter').agg({'ballnumber': 'count', 'batsman_run': 'mean'}).sort_values(by='ballnumber',ascending=False).head(10)\n",
    "batters_count2.rename(columns={\"batsman_run\":\"batsman_run_mean\"})"
   ]
  },
  {
   "cell_type": "code",
   "execution_count": 100,
   "id": "2fad1e2a",
   "metadata": {},
   "outputs": [
    {
     "data": {
      "text/plain": [
       "Text(0, 0.5, 'ballnumber')"
      ]
     },
     "execution_count": 100,
     "metadata": {},
     "output_type": "execute_result"
    },
    {
     "data": {
      "image/png": "[encoded data removed]",
      "text/plain": [
       "<Figure size 500x500 with 1 Axes>"
      ]
     },
     "metadata": {},
     "output_type": "display_data"
    }
   ],
   "source": [
    "plt.figure(figsize=(5,5))\n",
    "ax = batters_count2['ballnumber'].sort_values(ascending=False).head(10).plot.bar(color=['blue', 'orange','green','red','yellow'])\n",
    "\n",
    "ax.set_ylabel('ballnumber')"
   ]
  },
  {
   "cell_type": "markdown",
   "id": "2ba09c5e",
   "metadata": {},
   "source": [
    "# Players who scored 6 runs in one ball"
   ]
  },
  {
   "cell_type": "code",
   "execution_count": 101,
   "id": "9256cf47",
   "metadata": {},
   "outputs": [
    {
     "data": {
      "text/html": [
       "<div>\n",
       "<style scoped>\n",
       "    .dataframe tbody tr th:only-of-type {\n",
       "        vertical-align: middle;\n",
       "    }\n",
       "\n",
       "    .dataframe tbody tr th {\n",
       "        vertical-align: top;\n",
       "    }\n",
       "\n",
       "    .dataframe thead th {\n",
       "        text-align: right;\n",
       "    }\n",
       "</style>\n",
       "<table border=\"1\" class=\"dataframe\">\n",
       "  <thead>\n",
       "    <tr style=\"text-align: right;\">\n",
       "      <th></th>\n",
       "      <th>ID</th>\n",
       "      <th>innings</th>\n",
       "      <th>overs</th>\n",
       "      <th>ballnumber</th>\n",
       "      <th>batter</th>\n",
       "      <th>bowler</th>\n",
       "      <th>non-striker</th>\n",
       "      <th>batsman_run</th>\n",
       "      <th>extras_run</th>\n",
       "      <th>total_run</th>\n",
       "      <th>non_boundary</th>\n",
       "      <th>isWicketDelivery</th>\n",
       "      <th>BattingTeam</th>\n",
       "    </tr>\n",
       "  </thead>\n",
       "  <tbody>\n",
       "    <tr>\n",
       "      <th>16</th>\n",
       "      <td>1312200</td>\n",
       "      <td>1</td>\n",
       "      <td>2</td>\n",
       "      <td>5</td>\n",
       "      <td>YBK Jaiswal</td>\n",
       "      <td>Mohammed Shami</td>\n",
       "      <td>JC Buttler</td>\n",
       "      <td>6</td>\n",
       "      <td>0</td>\n",
       "      <td>6</td>\n",
       "      <td>0</td>\n",
       "      <td>0</td>\n",
       "      <td>Rajasthan Royals</td>\n",
       "    </tr>\n",
       "    <tr>\n",
       "      <th>22</th>\n",
       "      <td>1312200</td>\n",
       "      <td>1</td>\n",
       "      <td>3</td>\n",
       "      <td>5</td>\n",
       "      <td>YBK Jaiswal</td>\n",
       "      <td>Yash Dayal</td>\n",
       "      <td>JC Buttler</td>\n",
       "      <td>6</td>\n",
       "      <td>0</td>\n",
       "      <td>6</td>\n",
       "      <td>0</td>\n",
       "      <td>0</td>\n",
       "      <td>Rajasthan Royals</td>\n",
       "    </tr>\n",
       "    <tr>\n",
       "      <th>103</th>\n",
       "      <td>1312200</td>\n",
       "      <td>1</td>\n",
       "      <td>17</td>\n",
       "      <td>2</td>\n",
       "      <td>TA Boult</td>\n",
       "      <td>R Sai Kishore</td>\n",
       "      <td>R Parag</td>\n",
       "      <td>6</td>\n",
       "      <td>0</td>\n",
       "      <td>6</td>\n",
       "      <td>0</td>\n",
       "      <td>0</td>\n",
       "      <td>Rajasthan Royals</td>\n",
       "    </tr>\n",
       "    <tr>\n",
       "      <th>107</th>\n",
       "      <td>1312200</td>\n",
       "      <td>1</td>\n",
       "      <td>17</td>\n",
       "      <td>6</td>\n",
       "      <td>OC McCoy</td>\n",
       "      <td>R Sai Kishore</td>\n",
       "      <td>R Parag</td>\n",
       "      <td>6</td>\n",
       "      <td>0</td>\n",
       "      <td>6</td>\n",
       "      <td>0</td>\n",
       "      <td>0</td>\n",
       "      <td>Rajasthan Royals</td>\n",
       "    </tr>\n",
       "    <tr>\n",
       "      <th>142</th>\n",
       "      <td>1312200</td>\n",
       "      <td>2</td>\n",
       "      <td>3</td>\n",
       "      <td>5</td>\n",
       "      <td>MS Wade</td>\n",
       "      <td>M Prasidh Krishna</td>\n",
       "      <td>Shubman Gill</td>\n",
       "      <td>6</td>\n",
       "      <td>0</td>\n",
       "      <td>6</td>\n",
       "      <td>0</td>\n",
       "      <td>0</td>\n",
       "      <td>Gujarat Titans</td>\n",
       "    </tr>\n",
       "    <tr>\n",
       "      <th>...</th>\n",
       "      <td>...</td>\n",
       "      <td>...</td>\n",
       "      <td>...</td>\n",
       "      <td>...</td>\n",
       "      <td>...</td>\n",
       "      <td>...</td>\n",
       "      <td>...</td>\n",
       "      <td>...</td>\n",
       "      <td>...</td>\n",
       "      <td>...</td>\n",
       "      <td>...</td>\n",
       "      <td>...</td>\n",
       "      <td>...</td>\n",
       "    </tr>\n",
       "    <tr>\n",
       "      <th>225848</th>\n",
       "      <td>335982</td>\n",
       "      <td>1</td>\n",
       "      <td>19</td>\n",
       "      <td>2</td>\n",
       "      <td>BB McCullum</td>\n",
       "      <td>P Kumar</td>\n",
       "      <td>Mohammad Hafeez</td>\n",
       "      <td>6</td>\n",
       "      <td>0</td>\n",
       "      <td>6</td>\n",
       "      <td>0</td>\n",
       "      <td>0</td>\n",
       "      <td>Kolkata Knight Riders</td>\n",
       "    </tr>\n",
       "    <tr>\n",
       "      <th>225852</th>\n",
       "      <td>335982</td>\n",
       "      <td>1</td>\n",
       "      <td>19</td>\n",
       "      <td>6</td>\n",
       "      <td>BB McCullum</td>\n",
       "      <td>P Kumar</td>\n",
       "      <td>Mohammad Hafeez</td>\n",
       "      <td>6</td>\n",
       "      <td>0</td>\n",
       "      <td>6</td>\n",
       "      <td>0</td>\n",
       "      <td>0</td>\n",
       "      <td>Kolkata Knight Riders</td>\n",
       "    </tr>\n",
       "    <tr>\n",
       "      <th>225882</th>\n",
       "      <td>335982</td>\n",
       "      <td>2</td>\n",
       "      <td>4</td>\n",
       "      <td>4</td>\n",
       "      <td>JH Kallis</td>\n",
       "      <td>AB Agarkar</td>\n",
       "      <td>W Jaffer</td>\n",
       "      <td>6</td>\n",
       "      <td>0</td>\n",
       "      <td>6</td>\n",
       "      <td>0</td>\n",
       "      <td>0</td>\n",
       "      <td>Royal Challengers Bangalore</td>\n",
       "    </tr>\n",
       "    <tr>\n",
       "      <th>225932</th>\n",
       "      <td>335982</td>\n",
       "      <td>2</td>\n",
       "      <td>12</td>\n",
       "      <td>1</td>\n",
       "      <td>P Kumar</td>\n",
       "      <td>LR Shukla</td>\n",
       "      <td>Z Khan</td>\n",
       "      <td>6</td>\n",
       "      <td>0</td>\n",
       "      <td>6</td>\n",
       "      <td>0</td>\n",
       "      <td>0</td>\n",
       "      <td>Royal Challengers Bangalore</td>\n",
       "    </tr>\n",
       "    <tr>\n",
       "      <th>225944</th>\n",
       "      <td>335982</td>\n",
       "      <td>2</td>\n",
       "      <td>13</td>\n",
       "      <td>6</td>\n",
       "      <td>P Kumar</td>\n",
       "      <td>SC Ganguly</td>\n",
       "      <td>SB Joshi</td>\n",
       "      <td>6</td>\n",
       "      <td>0</td>\n",
       "      <td>6</td>\n",
       "      <td>0</td>\n",
       "      <td>0</td>\n",
       "      <td>Royal Challengers Bangalore</td>\n",
       "    </tr>\n",
       "  </tbody>\n",
       "</table>\n",
       "<p>10666 rows × 13 columns</p>\n",
       "</div>"
      ],
      "text/plain": [
       "             ID  innings  overs  ballnumber       batter             bowler  \\\n",
       "16      1312200        1      2           5  YBK Jaiswal     Mohammed Shami   \n",
       "22      1312200        1      3           5  YBK Jaiswal         Yash Dayal   \n",
       "103     1312200        1     17           2     TA Boult      R Sai Kishore   \n",
       "107     1312200        1     17           6     OC McCoy      R Sai Kishore   \n",
       "142     1312200        2      3           5      MS Wade  M Prasidh Krishna   \n",
       "...         ...      ...    ...         ...          ...                ...   \n",
       "225848   335982        1     19           2  BB McCullum            P Kumar   \n",
       "225852   335982        1     19           6  BB McCullum            P Kumar   \n",
       "225882   335982        2      4           4    JH Kallis         AB Agarkar   \n",
       "225932   335982        2     12           1      P Kumar          LR Shukla   \n",
       "225944   335982        2     13           6      P Kumar         SC Ganguly   \n",
       "\n",
       "            non-striker  batsman_run  extras_run  total_run  non_boundary  \\\n",
       "16           JC Buttler            6           0          6             0   \n",
       "22           JC Buttler            6           0          6             0   \n",
       "103             R Parag            6           0          6             0   \n",
       "107             R Parag            6           0          6             0   \n",
       "142        Shubman Gill            6           0          6             0   \n",
       "...                 ...          ...         ...        ...           ...   \n",
       "225848  Mohammad Hafeez            6           0          6             0   \n",
       "225852  Mohammad Hafeez            6           0          6             0   \n",
       "225882         W Jaffer            6           0          6             0   \n",
       "225932           Z Khan            6           0          6             0   \n",
       "225944         SB Joshi            6           0          6             0   \n",
       "\n",
       "        isWicketDelivery                  BattingTeam  \n",
       "16                     0             Rajasthan Royals  \n",
       "22                     0             Rajasthan Royals  \n",
       "103                    0             Rajasthan Royals  \n",
       "107                    0             Rajasthan Royals  \n",
       "142                    0               Gujarat Titans  \n",
       "...                  ...                          ...  \n",
       "225848                 0        Kolkata Knight Riders  \n",
       "225852                 0        Kolkata Knight Riders  \n",
       "225882                 0  Royal Challengers Bangalore  \n",
       "225932                 0  Royal Challengers Bangalore  \n",
       "225944                 0  Royal Challengers Bangalore  \n",
       "\n",
       "[10666 rows x 13 columns]"
      ]
     },
     "execution_count": 101,
     "metadata": {},
     "output_type": "execute_result"
    }
   ],
   "source": [
    "df[df['batsman_run'] == df['batsman_run'].max()]"
   ]
  },
  {
   "cell_type": "markdown",
   "id": "32e80560",
   "metadata": {},
   "source": [
    "# Player who scored maximum times 6 "
   ]
  },
  {
   "cell_type": "code",
   "execution_count": 102,
   "id": "d508a748",
   "metadata": {},
   "outputs": [
    {
     "data": {
      "text/plain": [
       "count        10666\n",
       "unique         400\n",
       "top       CH Gayle\n",
       "freq           359\n",
       "Name: batter, dtype: object"
      ]
     },
     "execution_count": 102,
     "metadata": {},
     "output_type": "execute_result"
    }
   ],
   "source": [
    "df[df['batsman_run'] == 6]['batter'].describe()"
   ]
  },
  {
   "cell_type": "markdown",
   "id": "87173925",
   "metadata": {},
   "source": [
    "### total 10666 times players scored 6 , in which  400 unique players scored 6 runs and CH Gayle scored 6 runs 359 times"
   ]
  },
  {
   "cell_type": "markdown",
   "id": "be78b930",
   "metadata": {},
   "source": [
    "# Top 5 players who scored maximum times 6"
   ]
  },
  {
   "cell_type": "code",
   "execution_count": 103,
   "id": "7705a174",
   "metadata": {},
   "outputs": [
    {
     "data": {
      "text/plain": [
       "CH Gayle          359\n",
       "AB de Villiers    253\n",
       "RG Sharma         241\n",
       "MS Dhoni          229\n",
       "KA Pollard        224\n",
       "Name: batter, dtype: int64"
      ]
     },
     "execution_count": 103,
     "metadata": {},
     "output_type": "execute_result"
    }
   ],
   "source": [
    "top_5_batsManwith6= df[df['batsman_run']==6]['batter'].value_counts()[df[df['batsman_run']==6]['batter'].value_counts() >= 223]\n",
    "top_5_batsManwith6"
   ]
  },
  {
   "cell_type": "markdown",
   "id": "3fab9ae6",
   "metadata": {},
   "source": [
    "# Player who scored maximum times 4"
   ]
  },
  {
   "cell_type": "code",
   "execution_count": 104,
   "id": "9eaa9098",
   "metadata": {},
   "outputs": [
    {
     "data": {
      "text/plain": [
       "count        25500\n",
       "unique         484\n",
       "top       S Dhawan\n",
       "freq           701\n",
       "Name: batter, dtype: object"
      ]
     },
     "execution_count": 104,
     "metadata": {},
     "output_type": "execute_result"
    }
   ],
   "source": [
    "df[df['batsman_run'] == 4]['batter'].describe()"
   ]
  },
  {
   "cell_type": "markdown",
   "id": "5adc90c2",
   "metadata": {},
   "source": [
    "# Top 5 players who scored maximum times 4"
   ]
  },
  {
   "cell_type": "code",
   "execution_count": 105,
   "id": "45bd30c8",
   "metadata": {},
   "outputs": [
    {
     "data": {
      "text/plain": [
       "S Dhawan     701\n",
       "V Kohli      581\n",
       "DA Warner    577\n",
       "RG Sharma    519\n",
       "SK Raina     506\n",
       "Name: batter, dtype: int64"
      ]
     },
     "execution_count": 105,
     "metadata": {},
     "output_type": "execute_result"
    }
   ],
   "source": [
    "top_5_batsManwith4= df[df['batsman_run']==4]['batter'].value_counts()[df[df['batsman_run']==4]['batter'].value_counts() >= 500]\n",
    "top_5_batsManwith4"
   ]
  },
  {
   "cell_type": "markdown",
   "id": "366985f9",
   "metadata": {},
   "source": [
    "# Top 10 players according to the runs scored "
   ]
  },
  {
   "cell_type": "code",
   "execution_count": 106,
   "id": "27435839",
   "metadata": {},
   "outputs": [],
   "source": [
    "no_of_runs = df.groupby('batter').agg({'batsman_run': 'sum'}).sort_values(by='batsman_run',ascending=False).head(10)"
   ]
  },
  {
   "cell_type": "code",
   "execution_count": 107,
   "id": "632b673a",
   "metadata": {
    "scrolled": true
   },
   "outputs": [
    {
     "data": {
      "text/html": [
       "<div>\n",
       "<style scoped>\n",
       "    .dataframe tbody tr th:only-of-type {\n",
       "        vertical-align: middle;\n",
       "    }\n",
       "\n",
       "    .dataframe tbody tr th {\n",
       "        vertical-align: top;\n",
       "    }\n",
       "\n",
       "    .dataframe thead th {\n",
       "        text-align: right;\n",
       "    }\n",
       "</style>\n",
       "<table border=\"1\" class=\"dataframe\">\n",
       "  <thead>\n",
       "    <tr style=\"text-align: right;\">\n",
       "      <th></th>\n",
       "      <th>batsman_run</th>\n",
       "    </tr>\n",
       "    <tr>\n",
       "      <th>batter</th>\n",
       "      <th></th>\n",
       "    </tr>\n",
       "  </thead>\n",
       "  <tbody>\n",
       "    <tr>\n",
       "      <th>V Kohli</th>\n",
       "      <td>6634</td>\n",
       "    </tr>\n",
       "    <tr>\n",
       "      <th>S Dhawan</th>\n",
       "      <td>6244</td>\n",
       "    </tr>\n",
       "    <tr>\n",
       "      <th>DA Warner</th>\n",
       "      <td>5883</td>\n",
       "    </tr>\n",
       "    <tr>\n",
       "      <th>RG Sharma</th>\n",
       "      <td>5881</td>\n",
       "    </tr>\n",
       "    <tr>\n",
       "      <th>SK Raina</th>\n",
       "      <td>5536</td>\n",
       "    </tr>\n",
       "    <tr>\n",
       "      <th>AB de Villiers</th>\n",
       "      <td>5181</td>\n",
       "    </tr>\n",
       "    <tr>\n",
       "      <th>CH Gayle</th>\n",
       "      <td>4997</td>\n",
       "    </tr>\n",
       "    <tr>\n",
       "      <th>MS Dhoni</th>\n",
       "      <td>4978</td>\n",
       "    </tr>\n",
       "    <tr>\n",
       "      <th>RV Uthappa</th>\n",
       "      <td>4954</td>\n",
       "    </tr>\n",
       "    <tr>\n",
       "      <th>KD Karthik</th>\n",
       "      <td>4377</td>\n",
       "    </tr>\n",
       "  </tbody>\n",
       "</table>\n",
       "</div>"
      ],
      "text/plain": [
       "                batsman_run\n",
       "batter                     \n",
       "V Kohli                6634\n",
       "S Dhawan               6244\n",
       "DA Warner              5883\n",
       "RG Sharma              5881\n",
       "SK Raina               5536\n",
       "AB de Villiers         5181\n",
       "CH Gayle               4997\n",
       "MS Dhoni               4978\n",
       "RV Uthappa             4954\n",
       "KD Karthik             4377"
      ]
     },
     "execution_count": 107,
     "metadata": {},
     "output_type": "execute_result"
    }
   ],
   "source": [
    "no_of_runs"
   ]
  },
  {
   "cell_type": "markdown",
   "id": "bb5bb913",
   "metadata": {},
   "source": [
    "### Highest number of runs scored by V Kohli followed by other players"
   ]
  },
  {
   "cell_type": "markdown",
   "id": "d084a23e",
   "metadata": {},
   "source": [
    "### Visualize the result "
   ]
  },
  {
   "cell_type": "code",
   "execution_count": 108,
   "id": "84671559",
   "metadata": {
    "scrolled": true
   },
   "outputs": [
    {
     "data": {
      "image/png": "[encoded data removed]",
      "text/plain": [
       "<Figure size 500x500 with 1 Axes>"
      ]
     },
     "metadata": {},
     "output_type": "display_data"
    }
   ],
   "source": [
    "sns.set_theme(context='notebook',palette='viridis' ,style='whitegrid')\n",
    "f, ax = plt.subplots(1,figsize=(5,5))\n",
    "no_of_runs['batsman_run'].plot.bar(color=['b', 'r', 'g', 'y', 'k'],ax=ax)\n",
    "ax.set_ylabel('batsman_run')\n",
    "ax.set_title('runs scored by player', y=1.05,fontsize=25, weight='bold')\n",
    "ax.set_xticklabels(no_of_runs.index, rotation = 90);"
   ]
  },
  {
   "cell_type": "markdown",
   "id": "3373f1d5",
   "metadata": {},
   "source": [
    "# *Now analyse the data for Bowlers"
   ]
  },
  {
   "cell_type": "code",
   "execution_count": 109,
   "id": "4c95ba29",
   "metadata": {},
   "outputs": [
    {
     "data": {
      "text/plain": [
       "count       225954\n",
       "unique         472\n",
       "top       R Ashwin\n",
       "freq          4024\n",
       "Name: bowler, dtype: object"
      ]
     },
     "execution_count": 109,
     "metadata": {},
     "output_type": "execute_result"
    }
   ],
   "source": [
    "df['bowler'].describe()"
   ]
  },
  {
   "cell_type": "markdown",
   "id": "9da30c94",
   "metadata": {},
   "source": [
    "### Total 472 number of bowlers in which R Ashwin bowls 4024 times"
   ]
  },
  {
   "cell_type": "markdown",
   "id": "6c751280",
   "metadata": {},
   "source": [
    "# Top 10 bolwers according to the number of times they bowled and batting team scored run"
   ]
  },
  {
   "cell_type": "code",
   "execution_count": 110,
   "id": "4f4d3684",
   "metadata": {},
   "outputs": [
    {
     "data": {
      "text/html": [
       "<div>\n",
       "<style scoped>\n",
       "    .dataframe tbody tr th:only-of-type {\n",
       "        vertical-align: middle;\n",
       "    }\n",
       "\n",
       "    .dataframe tbody tr th {\n",
       "        vertical-align: top;\n",
       "    }\n",
       "\n",
       "    .dataframe thead th {\n",
       "        text-align: right;\n",
       "    }\n",
       "</style>\n",
       "<table border=\"1\" class=\"dataframe\">\n",
       "  <thead>\n",
       "    <tr style=\"text-align: right;\">\n",
       "      <th></th>\n",
       "      <th>ballnumber</th>\n",
       "      <th>total_run</th>\n",
       "    </tr>\n",
       "    <tr>\n",
       "      <th>bowler</th>\n",
       "      <th></th>\n",
       "      <th></th>\n",
       "    </tr>\n",
       "  </thead>\n",
       "  <tbody>\n",
       "    <tr>\n",
       "      <th>R Ashwin</th>\n",
       "      <td>4024</td>\n",
       "      <td>4596</td>\n",
       "    </tr>\n",
       "    <tr>\n",
       "      <th>DJ Bravo</th>\n",
       "      <td>3296</td>\n",
       "      <td>4436</td>\n",
       "    </tr>\n",
       "    <tr>\n",
       "      <th>PP Chawla</th>\n",
       "      <td>3309</td>\n",
       "      <td>4368</td>\n",
       "    </tr>\n",
       "    <tr>\n",
       "      <th>RA Jadeja</th>\n",
       "      <td>3262</td>\n",
       "      <td>4114</td>\n",
       "    </tr>\n",
       "    <tr>\n",
       "      <th>Harbhajan Singh</th>\n",
       "      <td>3496</td>\n",
       "      <td>4101</td>\n",
       "    </tr>\n",
       "    <tr>\n",
       "      <th>B Kumar</th>\n",
       "      <td>3384</td>\n",
       "      <td>4064</td>\n",
       "    </tr>\n",
       "    <tr>\n",
       "      <th>UT Yadav</th>\n",
       "      <td>2945</td>\n",
       "      <td>4041</td>\n",
       "    </tr>\n",
       "    <tr>\n",
       "      <th>A Mishra</th>\n",
       "      <td>3317</td>\n",
       "      <td>4022</td>\n",
       "    </tr>\n",
       "    <tr>\n",
       "      <th>SP Narine</th>\n",
       "      <td>3516</td>\n",
       "      <td>3907</td>\n",
       "    </tr>\n",
       "    <tr>\n",
       "      <th>YS Chahal</th>\n",
       "      <td>2940</td>\n",
       "      <td>3699</td>\n",
       "    </tr>\n",
       "    <tr>\n",
       "      <th>JJ Bumrah</th>\n",
       "      <td>2857</td>\n",
       "      <td>3499</td>\n",
       "    </tr>\n",
       "    <tr>\n",
       "      <th>SL Malinga</th>\n",
       "      <td>2974</td>\n",
       "      <td>3486</td>\n",
       "    </tr>\n",
       "    <tr>\n",
       "      <th>P Kumar</th>\n",
       "      <td>2637</td>\n",
       "      <td>3342</td>\n",
       "    </tr>\n",
       "    <tr>\n",
       "      <th>AR Patel</th>\n",
       "      <td>2599</td>\n",
       "      <td>3140</td>\n",
       "    </tr>\n",
       "    <tr>\n",
       "      <th>Sandeep Sharma</th>\n",
       "      <td>2399</td>\n",
       "      <td>3046</td>\n",
       "    </tr>\n",
       "    <tr>\n",
       "      <th>R Vinay Kumar</th>\n",
       "      <td>2186</td>\n",
       "      <td>3041</td>\n",
       "    </tr>\n",
       "    <tr>\n",
       "      <th>Mohammed Shami</th>\n",
       "      <td>2118</td>\n",
       "      <td>2954</td>\n",
       "    </tr>\n",
       "    <tr>\n",
       "      <th>Z Khan</th>\n",
       "      <td>2276</td>\n",
       "      <td>2860</td>\n",
       "    </tr>\n",
       "    <tr>\n",
       "      <th>JD Unadkat</th>\n",
       "      <td>1942</td>\n",
       "      <td>2806</td>\n",
       "    </tr>\n",
       "    <tr>\n",
       "      <th>I Sharma</th>\n",
       "      <td>2090</td>\n",
       "      <td>2779</td>\n",
       "    </tr>\n",
       "  </tbody>\n",
       "</table>\n",
       "</div>"
      ],
      "text/plain": [
       "                 ballnumber  total_run\n",
       "bowler                                \n",
       "R Ashwin               4024       4596\n",
       "DJ Bravo               3296       4436\n",
       "PP Chawla              3309       4368\n",
       "RA Jadeja              3262       4114\n",
       "Harbhajan Singh        3496       4101\n",
       "B Kumar                3384       4064\n",
       "UT Yadav               2945       4041\n",
       "A Mishra               3317       4022\n",
       "SP Narine              3516       3907\n",
       "YS Chahal              2940       3699\n",
       "JJ Bumrah              2857       3499\n",
       "SL Malinga             2974       3486\n",
       "P Kumar                2637       3342\n",
       "AR Patel               2599       3140\n",
       "Sandeep Sharma         2399       3046\n",
       "R Vinay Kumar          2186       3041\n",
       "Mohammed Shami         2118       2954\n",
       "Z Khan                 2276       2860\n",
       "JD Unadkat             1942       2806\n",
       "I Sharma               2090       2779"
      ]
     },
     "execution_count": 110,
     "metadata": {},
     "output_type": "execute_result"
    }
   ],
   "source": [
    "no_of_wickets = df.groupby('bowler').agg({'ballnumber': 'count','total_run':'sum'}).sort_values(by='total_run',ascending=False).head(20)\n",
    "no_of_wickets"
   ]
  },
  {
   "cell_type": "code",
   "execution_count": 111,
   "id": "1355b9c7",
   "metadata": {
    "scrolled": true
   },
   "outputs": [
    {
     "data": {
      "image/png": "[encoded data removed]",
      "text/plain": [
       "<Figure size 500x500 with 1 Axes>"
      ]
     },
     "metadata": {},
     "output_type": "display_data"
    }
   ],
   "source": [
    "sns.set_theme(context='notebook',palette='viridis' ,style='whitegrid')\n",
    "f, ax = plt.subplots(1,figsize=(5,5))\n",
    "no_of_wickets['ballnumber'].plot.bar(color=['b', 'r', 'g', 'y', 'k'],ax=ax)\n",
    "ax.set_ylabel('ballnumber')\n",
    "ax.set_title('Number of times players bowls', y=1.05,fontsize=25, weight='bold')\n",
    "ax.set_xticklabels(no_of_wickets.index, rotation = 90);"
   ]
  },
  {
   "cell_type": "code",
   "execution_count": 112,
   "id": "0c94177f",
   "metadata": {},
   "outputs": [
    {
     "data": {
      "image/png": "[encoded data removed]",
      "text/plain": [
       "<Figure size 500x500 with 1 Axes>"
      ]
     },
     "metadata": {},
     "output_type": "display_data"
    }
   ],
   "source": [
    "sns.set_theme(context='notebook',palette='viridis' ,style='whitegrid')\n",
    "f, ax = plt.subplots(1,figsize=(5,5))\n",
    "no_of_wickets['total_run'].plot.bar(color=['b', 'r', 'g', 'y', 'k'],ax=ax)\n",
    "ax.set_ylabel('total_run')\n",
    "ax.set_title('Batsman scored run from the bowling of bowlers', y=1.05,fontsize=25, weight='bold')\n",
    "ax.set_xticklabels(no_of_wickets.index, rotation = 90);"
   ]
  },
  {
   "cell_type": "markdown",
   "id": "cf46401b",
   "metadata": {},
   "source": [
    "## Players acoording to the number of wickets they take"
   ]
  },
  {
   "cell_type": "code",
   "execution_count": 113,
   "id": "e386a8d0",
   "metadata": {},
   "outputs": [],
   "source": [
    "no_of_wickets = df.groupby('bowler').agg({'isWicketDelivery': 'sum'}).sort_values(by='isWicketDelivery',ascending=False).head(10)"
   ]
  },
  {
   "cell_type": "code",
   "execution_count": 114,
   "id": "883c244a",
   "metadata": {},
   "outputs": [
    {
     "data": {
      "text/html": [
       "<div>\n",
       "<style scoped>\n",
       "    .dataframe tbody tr th:only-of-type {\n",
       "        vertical-align: middle;\n",
       "    }\n",
       "\n",
       "    .dataframe tbody tr th {\n",
       "        vertical-align: top;\n",
       "    }\n",
       "\n",
       "    .dataframe thead th {\n",
       "        text-align: right;\n",
       "    }\n",
       "</style>\n",
       "<table border=\"1\" class=\"dataframe\">\n",
       "  <thead>\n",
       "    <tr style=\"text-align: right;\">\n",
       "      <th></th>\n",
       "      <th>isWicketDelivery</th>\n",
       "    </tr>\n",
       "    <tr>\n",
       "      <th>bowler</th>\n",
       "      <th></th>\n",
       "    </tr>\n",
       "  </thead>\n",
       "  <tbody>\n",
       "    <tr>\n",
       "      <th>DJ Bravo</th>\n",
       "      <td>207</td>\n",
       "    </tr>\n",
       "    <tr>\n",
       "      <th>SL Malinga</th>\n",
       "      <td>188</td>\n",
       "    </tr>\n",
       "    <tr>\n",
       "      <th>A Mishra</th>\n",
       "      <td>175</td>\n",
       "    </tr>\n",
       "    <tr>\n",
       "      <th>R Ashwin</th>\n",
       "      <td>174</td>\n",
       "    </tr>\n",
       "    <tr>\n",
       "      <th>YS Chahal</th>\n",
       "      <td>172</td>\n",
       "    </tr>\n",
       "    <tr>\n",
       "      <th>SP Narine</th>\n",
       "      <td>171</td>\n",
       "    </tr>\n",
       "    <tr>\n",
       "      <th>B Kumar</th>\n",
       "      <td>165</td>\n",
       "    </tr>\n",
       "    <tr>\n",
       "      <th>PP Chawla</th>\n",
       "      <td>165</td>\n",
       "    </tr>\n",
       "    <tr>\n",
       "      <th>Harbhajan Singh</th>\n",
       "      <td>161</td>\n",
       "    </tr>\n",
       "    <tr>\n",
       "      <th>JJ Bumrah</th>\n",
       "      <td>161</td>\n",
       "    </tr>\n",
       "  </tbody>\n",
       "</table>\n",
       "</div>"
      ],
      "text/plain": [
       "                 isWicketDelivery\n",
       "bowler                           \n",
       "DJ Bravo                      207\n",
       "SL Malinga                    188\n",
       "A Mishra                      175\n",
       "R Ashwin                      174\n",
       "YS Chahal                     172\n",
       "SP Narine                     171\n",
       "B Kumar                       165\n",
       "PP Chawla                     165\n",
       "Harbhajan Singh               161\n",
       "JJ Bumrah                     161"
      ]
     },
     "execution_count": 114,
     "metadata": {},
     "output_type": "execute_result"
    }
   ],
   "source": [
    "no_of_wickets"
   ]
  },
  {
   "cell_type": "markdown",
   "id": "afc03393",
   "metadata": {},
   "source": [
    "### DJ Bravo taken maximum number of wickets followed by other players"
   ]
  },
  {
   "cell_type": "markdown",
   "id": "2af3226d",
   "metadata": {},
   "source": [
    "### visualzie the result "
   ]
  },
  {
   "cell_type": "code",
   "execution_count": 115,
   "id": "97ab8acc",
   "metadata": {},
   "outputs": [
    {
     "data": {
      "image/png": "[encoded data removed]",
      "text/plain": [
       "<Figure size 500x500 with 1 Axes>"
      ]
     },
     "metadata": {},
     "output_type": "display_data"
    }
   ],
   "source": [
    "sns.set_theme(context='notebook',palette='viridis' ,style='whitegrid')\n",
    "f, ax = plt.subplots(1,figsize=(5,5))\n",
    "no_of_wickets['isWicketDelivery'].plot.bar(color=['b', 'r', 'g', 'y', 'k'],ax=ax)\n",
    "ax.set_ylabel('isWicketDelivery')\n",
    "ax.set_title('Wicket Delivery by Bowlers', y=1.05,fontsize=25, weight='bold')\n",
    "ax.set_xticklabels(no_of_wickets.index, rotation = 90);"
   ]
  },
  {
   "cell_type": "markdown",
   "id": "a581b22a",
   "metadata": {},
   "source": [
    "## mean of wickets deliver by bolwers"
   ]
  },
  {
   "cell_type": "code",
   "execution_count": 116,
   "id": "fe80b620",
   "metadata": {},
   "outputs": [
    {
     "data": {
      "text/html": [
       "<div>\n",
       "<style scoped>\n",
       "    .dataframe tbody tr th:only-of-type {\n",
       "        vertical-align: middle;\n",
       "    }\n",
       "\n",
       "    .dataframe tbody tr th {\n",
       "        vertical-align: top;\n",
       "    }\n",
       "\n",
       "    .dataframe thead th {\n",
       "        text-align: right;\n",
       "    }\n",
       "</style>\n",
       "<table border=\"1\" class=\"dataframe\">\n",
       "  <thead>\n",
       "    <tr style=\"text-align: right;\">\n",
       "      <th></th>\n",
       "      <th>isWicketDelivery_mean</th>\n",
       "    </tr>\n",
       "    <tr>\n",
       "      <th>bowler</th>\n",
       "      <th></th>\n",
       "    </tr>\n",
       "  </thead>\n",
       "  <tbody>\n",
       "    <tr>\n",
       "      <th>AC Gilchrist</th>\n",
       "      <td>1.000000</td>\n",
       "    </tr>\n",
       "    <tr>\n",
       "      <th>D Brevis</th>\n",
       "      <td>0.333333</td>\n",
       "    </tr>\n",
       "    <tr>\n",
       "      <th>Sachin Baby</th>\n",
       "      <td>0.300000</td>\n",
       "    </tr>\n",
       "    <tr>\n",
       "      <th>A Badoni</th>\n",
       "      <td>0.166667</td>\n",
       "    </tr>\n",
       "    <tr>\n",
       "      <th>AM Rahane</th>\n",
       "      <td>0.166667</td>\n",
       "    </tr>\n",
       "    <tr>\n",
       "      <th>Ramandeep Singh</th>\n",
       "      <td>0.146341</td>\n",
       "    </tr>\n",
       "    <tr>\n",
       "      <th>LA Carseldine</th>\n",
       "      <td>0.142857</td>\n",
       "    </tr>\n",
       "    <tr>\n",
       "      <th>SS Mundhe</th>\n",
       "      <td>0.142857</td>\n",
       "    </tr>\n",
       "    <tr>\n",
       "      <th>DAJ Bracewell</th>\n",
       "      <td>0.120000</td>\n",
       "    </tr>\n",
       "    <tr>\n",
       "      <th>L Ablish</th>\n",
       "      <td>0.111111</td>\n",
       "    </tr>\n",
       "  </tbody>\n",
       "</table>\n",
       "</div>"
      ],
      "text/plain": [
       "                 isWicketDelivery_mean\n",
       "bowler                                \n",
       "AC Gilchrist                  1.000000\n",
       "D Brevis                      0.333333\n",
       "Sachin Baby                   0.300000\n",
       "A Badoni                      0.166667\n",
       "AM Rahane                     0.166667\n",
       "Ramandeep Singh               0.146341\n",
       "LA Carseldine                 0.142857\n",
       "SS Mundhe                     0.142857\n",
       "DAJ Bracewell                 0.120000\n",
       "L Ablish                      0.111111"
      ]
     },
     "execution_count": 116,
     "metadata": {},
     "output_type": "execute_result"
    }
   ],
   "source": [
    "bowlers_mean = df.groupby('bowler').agg({'isWicketDelivery': 'mean'}).sort_values(by='isWicketDelivery',ascending=False).head(10)\n",
    "bowlers_mean.rename(columns={\"isWicketDelivery\":\"isWicketDelivery_mean\"})"
   ]
  },
  {
   "cell_type": "markdown",
   "id": "b3ee8cd9",
   "metadata": {},
   "source": [
    "## common players that do both bowling and batting"
   ]
  },
  {
   "cell_type": "code",
   "execution_count": 117,
   "id": "b95ca80f",
   "metadata": {},
   "outputs": [
    {
     "data": {
      "text/plain": [
       "False"
      ]
     },
     "execution_count": 117,
     "metadata": {},
     "output_type": "execute_result"
    }
   ],
   "source": [
    "df[df['bowler']==df['batter']]['bowler'].any()"
   ]
  },
  {
   "cell_type": "markdown",
   "id": "40091a21",
   "metadata": {},
   "source": [
    "### no such player that do both batting and bowler"
   ]
  },
  {
   "cell_type": "markdown",
   "id": "47506835",
   "metadata": {},
   "source": [
    "# CONCLUSION:\n"
   ]
  },
  {
   "cell_type": "markdown",
   "id": "6f006e8c",
   "metadata": {},
   "source": [
    "## Batsman: "
   ]
  },
  {
   "cell_type": "markdown",
   "id": "6cda8baf",
   "metadata": {},
   "source": [
    "# Batsman choosen:\n",
    "### V Kohli played maximum number of balls, 5266 balls and scored fours 581 times and scored maximum number of runs.\n",
    "### AB de Villiers scored  5181 total runs and scored sixes 253 times in 3487 balls.\n",
    "### CH Gayle as he scored maximum number of sixes.\n",
    "### S Dhawan as he scored maximum time four.\n",
    "### RG Sharma because he scored fours 519 times and sixes 241 times and scored 5881 runs and his average runs is 1.26."
   ]
  },
  {
   "cell_type": "markdown",
   "id": "a633f6fb",
   "metadata": {},
   "source": [
    "# Bowlers choosen:\n",
    "### R Ashwin as he bowled 4024 time and batting team scored 4596 runs and wicket delivery is 174.\n",
    "### SL Malinga take 188 wicket in 2974 balls\n",
    "### DJ Bravo has taken maximum number of wickets, 207 wickets. \n",
    "### SP Narine wicket delivery is 171 wickets in 3516 balls.\n",
    "### A Mishra 175 wickets in 3317 balls and batting team scored 4022 runs "
   ]
  }
 ],
 "metadata": {
  "kernelspec": {
   "display_name": "Python 3 (ipykernel)",
   "language": "python",
   "name": "python3"
  },
  "language_info": {
   "codemirror_mode": {
    "name": "ipython",
    "version": 3
   },
   "file_extension": ".py",
   "mimetype": "text/x-python",
   "name": "python",
   "nbconvert_exporter": "python",
   "pygments_lexer": "ipython3",
   "version": "3.9.2rc1"
  }
 },
 "nbformat": 4,
 "nbformat_minor": 5
}
